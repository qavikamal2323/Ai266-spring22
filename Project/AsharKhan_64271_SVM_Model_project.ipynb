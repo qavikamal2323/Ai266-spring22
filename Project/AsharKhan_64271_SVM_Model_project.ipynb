{
  "cells": [
    {
      "cell_type": "code",
      "execution_count": 1,
      "metadata": {
        "colab": {
          "base_uri": "https://localhost:8080/"
        },
        "id": "wVkt7MSstAQU",
        "outputId": "4ae40592-ceff-41fe-e222-ed80fea0c3d5"
      },
      "outputs": [
        {
          "output_type": "stream",
          "name": "stdout",
          "text": [
            "Drive already mounted at /content/drive; to attempt to forcibly remount, call drive.mount(\"/content/drive\", force_remount=True).\n"
          ]
        }
      ],
      "source": [
        "from google.colab import drive\n",
        "drive.mount('/content/drive')"
      ]
    },
    {
      "cell_type": "code",
      "execution_count": 2,
      "metadata": {
        "id": "yZCMaw8Ntc34"
      },
      "outputs": [],
      "source": [
        "import pandas as pd \n",
        "import pickle \n",
        "import numpy as np\n",
        "from sklearn import preprocessing \n",
        "from sklearn.metrics import accuracy_score \n",
        "from sklearn.model_selection import train_test_split \n",
        "from sklearn import metrics\n",
        "import matplotlib.pyplot as plt\n",
        "import seaborn as sns\n",
        "from sklearn.svm import LinearSVC\n",
        "from sklearn.model_selection import cross_val_score\n",
        "from sklearn.preprocessing import StandardScaler\n",
        "from sklearn.svm import SVC"
      ]
    },
    {
      "cell_type": "code",
      "execution_count": 3,
      "metadata": {
        "colab": {
          "base_uri": "https://localhost:8080/"
        },
        "id": "q3ooFSPqt5H1",
        "outputId": "36e3ac30-08c2-4aa4-84cd-3e70aed4b6c0"
      },
      "outputs": [
        {
          "output_type": "execute_result",
          "data": {
            "text/plain": [
              "id          int64\n",
              "f_00      float64\n",
              "f_01      float64\n",
              "f_02      float64\n",
              "f_03      float64\n",
              "f_04      float64\n",
              "f_05      float64\n",
              "f_06      float64\n",
              "f_07        int64\n",
              "f_08        int64\n",
              "f_09        int64\n",
              "f_10        int64\n",
              "f_11        int64\n",
              "f_12        int64\n",
              "f_13        int64\n",
              "f_14        int64\n",
              "f_15        int64\n",
              "f_16        int64\n",
              "f_17        int64\n",
              "f_18        int64\n",
              "f_19      float64\n",
              "f_20      float64\n",
              "f_21      float64\n",
              "f_22      float64\n",
              "f_23      float64\n",
              "f_24      float64\n",
              "f_25      float64\n",
              "f_26      float64\n",
              "f_27       object\n",
              "f_28      float64\n",
              "f_29        int64\n",
              "f_30        int64\n",
              "target      int64\n",
              "dtype: object"
            ]
          },
          "metadata": {},
          "execution_count": 3
        }
      ],
      "source": [
        "trainDF = pd.read_csv(\"/content/drive/MyDrive/AI_Project/train.csv\")\n",
        "trainDF.isna().sum()\n",
        "trainDF.dtypes"
      ]
    },
    {
      "cell_type": "code",
      "execution_count": 4,
      "metadata": {
        "colab": {
          "base_uri": "https://localhost:8080/"
        },
        "id": "22xpHTtnt8N0",
        "outputId": "a4cf71a9-8604-4826-be0b-f2621b7b6f7b"
      },
      "outputs": [
        {
          "output_type": "stream",
          "name": "stdout",
          "text": [
            "            f_00      f_01      f_02      f_19      f_20      f_21      f_22  \\\n",
            "0      -1.373246  0.238887 -0.243376  0.298218 -0.919717  3.058541 -2.540739   \n",
            "1       1.697021 -1.710322 -2.230332 -3.147667 -1.075434  2.179050  2.278315   \n",
            "2       1.681726  0.616746 -1.027689  2.820733 -3.485342 -0.784235 -1.385775   \n",
            "3      -0.118172 -0.587835 -0.804638  1.081084 -2.100177 -2.343819  0.572594   \n",
            "4       1.148481 -0.176567 -0.664871 -0.126179  0.605033  1.133665 -3.912929   \n",
            "...          ...       ...       ...       ...       ...       ...       ...   \n",
            "899995  1.380145 -0.038884  0.597111 -4.061370 -2.643652 -2.173853 -1.594744   \n",
            "899996 -1.369789  0.044841  0.015458 -1.721978  0.741793 -5.190605  2.413899   \n",
            "899997  1.386201 -0.961150  0.725994 -1.265819  1.230005 -1.361833 -0.151930   \n",
            "899998 -1.590572 -0.509938 -1.715397  1.035249  2.450813 -2.577817  2.423670   \n",
            "899999 -0.636210 -0.425986 -1.826699  3.472124  1.158922 -0.612109  1.340696   \n",
            "\n",
            "            f_23      f_24      f_26  \n",
            "0       0.766952 -2.730628  1.363402  \n",
            "1      -0.633658 -1.217077 -0.058316  \n",
            "2      -0.520558 -0.009121 -3.703488  \n",
            "3      -1.653213  1.686035 -0.608601  \n",
            "4      -1.430366  2.127649  4.371371  \n",
            "...          ...       ...       ...  \n",
            "899995  0.522019  0.833047  1.290094  \n",
            "899996 -0.674942 -0.412111 -3.144047  \n",
            "899997 -4.560773 -1.249154  2.253696  \n",
            "899998  2.110008  0.561271  1.019982  \n",
            "899999  3.762351  1.797137  2.090440  \n",
            "\n",
            "[900000 rows x 10 columns]\n"
          ]
        }
      ],
      "source": [
        "trainDF.drop(['id','f_27'],axis=1,inplace=True)\n",
        "X = trainDF.drop([\"target\"],axis=1)\n",
        "nX = trainDF[[\"f_00\",\"f_01\",\"f_02\",\"f_19\",\"f_20\",\"f_21\",\"f_22\",\"f_23\",\"f_24\",\"f_26\"]]\n",
        "y = trainDF[\"target\"]\n",
        "print(nX)"
      ]
    },
    {
      "cell_type": "code",
      "execution_count": 5,
      "metadata": {
        "id": "2UlzstfjuBgm"
      },
      "outputs": [],
      "source": [
        "X_train, X_test, y_train, y_test= train_test_split(nX , y, test_size= 0.2,random_state= 42)"
      ]
    },
    {
      "cell_type": "code",
      "execution_count": 6,
      "metadata": {
        "colab": {
          "base_uri": "https://localhost:8080/"
        },
        "id": "GTD6Qy_kuCs4",
        "outputId": "ee3c2b27-c4a1-4991-f0b5-1b20807ddef4"
      },
      "outputs": [
        {
          "output_type": "stream",
          "name": "stdout",
          "text": [
            "SVM-Model Accuracy :  59.24791666666667\n"
          ]
        },
        {
          "output_type": "stream",
          "name": "stderr",
          "text": [
            "/usr/local/lib/python3.7/dist-packages/sklearn/svm/_base.py:1208: ConvergenceWarning: Liblinear failed to converge, increase the number of iterations.\n",
            "  ConvergenceWarning,\n"
          ]
        }
      ],
      "source": [
        "lin_clf = LinearSVC(random_state=42)\n",
        "lin_clf.fit(X_train, y_train)\n",
        "y_pred = lin_clf.predict(X_train)\n",
        "Accuracy_SVM = accuracy_score(y_train, y_pred)\n",
        "print(\"SVM-Model Accuracy : \", Accuracy_SVM * 100)"
      ]
    },
    {
      "cell_type": "code",
      "execution_count": 8,
      "metadata": {
        "colab": {
          "base_uri": "https://localhost:8080/"
        },
        "id": "SDz2Fu5wuSWm",
        "outputId": "2f2bdba9-9e8b-477a-cef6-a3297ca9a49f"
      },
      "outputs": [
        {
          "output_type": "stream",
          "name": "stderr",
          "text": [
            "/usr/local/lib/python3.7/dist-packages/sklearn/svm/_base.py:1208: ConvergenceWarning: Liblinear failed to converge, increase the number of iterations.\n",
            "  ConvergenceWarning,\n",
            "/usr/local/lib/python3.7/dist-packages/sklearn/svm/_base.py:1208: ConvergenceWarning: Liblinear failed to converge, increase the number of iterations.\n",
            "  ConvergenceWarning,\n",
            "/usr/local/lib/python3.7/dist-packages/sklearn/svm/_base.py:1208: ConvergenceWarning: Liblinear failed to converge, increase the number of iterations.\n",
            "  ConvergenceWarning,\n"
          ]
        }
      ],
      "source": [
        "SVM_score = cross_val_score(lin_clf, X_train, y_train, cv=3)\n",
        "SVM_mean = SVM_score.mean()"
      ]
    },
    {
      "cell_type": "code",
      "source": [
        "print(\"SVM-Cross-Validation-Model Accuracy :\",  SVM_mean * 100)"
      ],
      "metadata": {
        "colab": {
          "base_uri": "https://localhost:8080/"
        },
        "id": "1RsgicbW8SmV",
        "outputId": "656f14cd-cdda-49d0-8304-f75c23e49436"
      },
      "execution_count": 9,
      "outputs": [
        {
          "output_type": "stream",
          "name": "stdout",
          "text": [
            "SVM-Cross-Validation-Model Accuracy : 59.22430555555556\n"
          ]
        }
      ]
    },
    {
      "cell_type": "code",
      "execution_count": 10,
      "metadata": {
        "colab": {
          "base_uri": "https://localhost:8080/"
        },
        "id": "Q9dc5wveuT5N",
        "outputId": "664c7412-08ad-480b-9bd5-02abdb64a3f9"
      },
      "outputs": [
        {
          "output_type": "stream",
          "name": "stdout",
          "text": [
            "Experiment To Increase SVM-Model Accuracy , select 10000 rows :  67.42861111111111\n"
          ]
        }
      ],
      "source": [
        "#if select 10000 rows\n",
        "scaler = StandardScaler()\n",
        "X_train_scaled = scaler.fit_transform(X_train.astype(np.float32))\n",
        "X_test_scaled = scaler.transform(X_test.astype(np.float32))\n",
        "svc = SVC(gamma=\"scale\")\n",
        "svc_predict_result = svc.fit(X_train_scaled[:10000],y_train[:10000])\n",
        "svc_predict = svc.predict(X_train_scaled)\n",
        "Accuracy_SVM = metrics.accuracy_score(y_train, svc_predict)\n",
        "print(\"Experiment To Increase SVM-Model Accuracy , select 10000 rows : \", Accuracy_SVM * 100)"
      ]
    },
    {
      "cell_type": "code",
      "source": [
        "#if select 20000 rows\n",
        "scaler = StandardScaler()\n",
        "X_train_scaled = scaler.fit_transform(X_train.astype(np.float32))\n",
        "X_test_scaled = scaler.transform(X_test.astype(np.float32))\n",
        "svc = SVC(gamma=\"scale\")\n",
        "svc_predict_result = svc.fit(X_train_scaled[:20000],y_train[:20000])\n",
        "svc_predict = svc.predict(X_train_scaled)\n",
        "Accuracy_SVM = metrics.accuracy_score(y_train, svc_predict)\n",
        "print(\"Experiment To Increase SVM-Model Accuracy , select 20000 rows : \", Accuracy_SVM * 100)"
      ],
      "metadata": {
        "colab": {
          "base_uri": "https://localhost:8080/"
        },
        "id": "LznfpzV6MMIq",
        "outputId": "05efdf4d-6222-482e-dbe0-0d11d0063171"
      },
      "execution_count": 16,
      "outputs": [
        {
          "output_type": "stream",
          "name": "stdout",
          "text": [
            "Experiment To Increase SVM-Model Accuracy , select 20000 rows :  68.29263888888889\n"
          ]
        }
      ]
    },
    {
      "cell_type": "code",
      "execution_count": 11,
      "metadata": {
        "colab": {
          "base_uri": "https://localhost:8080/"
        },
        "id": "uaavUhEd6f5s",
        "outputId": "1696d41e-6166-40ce-92ec-ed1057b681b6"
      },
      "outputs": [
        {
          "output_type": "stream",
          "name": "stdout",
          "text": [
            "Experiment To Increase SVM-Model Accuracy , select 50000 rows :  69.25597222222221\n"
          ]
        }
      ],
      "source": [
        "#if select 50000 rows\n",
        "scaler = StandardScaler()\n",
        "X_train_scaled = scaler.fit_transform(X_train.astype(np.float32))\n",
        "X_test_scaled = scaler.transform(X_test.astype(np.float32))\n",
        "svc = SVC(gamma=\"scale\")\n",
        "svc_predict_result = svc.fit(X_train_scaled[:50000],y_train[:50000])\n",
        "svc_predict = svc.predict(X_train_scaled)\n",
        "Accuracy_SVM = metrics.accuracy_score(y_train, svc_predict)\n",
        "print(\"Experiment To Increase SVM-Model Accuracy , select 50000 rows : \", Accuracy_SVM * 100)"
      ]
    },
    {
      "cell_type": "code",
      "source": [
        "testDF = pd.read_csv(\"/content/drive/MyDrive/AI_Project/test.csv\")\n",
        "testDF_Result = testDF[['id']];\n",
        "testDF.drop([\"id\",\"f_27\"],axis=1,inplace=True)\n",
        "ntest = testDF[[\"f_00\",\"f_01\",\"f_02\",\"f_19\",\"f_20\",\"f_21\",\"f_22\",\"f_23\",\"f_24\",\"f_26\"]]"
      ],
      "metadata": {
        "id": "I1eLD2K7BBkd"
      },
      "execution_count": 12,
      "outputs": []
    },
    {
      "cell_type": "code",
      "source": [
        "svc_predict_test = lin_clf.predict(ntest)"
      ],
      "metadata": {
        "id": "KP9_8sKgBXOy"
      },
      "execution_count": 13,
      "outputs": []
    },
    {
      "cell_type": "code",
      "source": [
        "testDF_Result.insert(1,\"target\",0);\n",
        "testDF_Result['target'] = svc_predict_test\n",
        "print(testDF_Result)"
      ],
      "metadata": {
        "colab": {
          "base_uri": "https://localhost:8080/"
        },
        "id": "BJDs13RwByVU",
        "outputId": "061e9d98-c309-48b4-9928-16d307ab6f8e"
      },
      "execution_count": 14,
      "outputs": [
        {
          "output_type": "stream",
          "name": "stdout",
          "text": [
            "             id  target\n",
            "0        900000       0\n",
            "1        900001       1\n",
            "2        900002       0\n",
            "3        900003       0\n",
            "4        900004       0\n",
            "...         ...     ...\n",
            "699995  1599995       1\n",
            "699996  1599996       1\n",
            "699997  1599997       0\n",
            "699998  1599998       0\n",
            "699999  1599999       0\n",
            "\n",
            "[700000 rows x 2 columns]\n"
          ]
        },
        {
          "output_type": "stream",
          "name": "stderr",
          "text": [
            "/usr/local/lib/python3.7/dist-packages/ipykernel_launcher.py:2: SettingWithCopyWarning: \n",
            "A value is trying to be set on a copy of a slice from a DataFrame.\n",
            "Try using .loc[row_indexer,col_indexer] = value instead\n",
            "\n",
            "See the caveats in the documentation: https://pandas.pydata.org/pandas-docs/stable/user_guide/indexing.html#returning-a-view-versus-a-copy\n",
            "  \n"
          ]
        }
      ]
    },
    {
      "cell_type": "code",
      "source": [
        "testDF_Result.to_csv('AsharKhan_Project.csv',index=False);"
      ],
      "metadata": {
        "id": "NPX_LYe7CRu8"
      },
      "execution_count": 15,
      "outputs": []
    }
  ],
  "metadata": {
    "colab": {
      "name": "AsharKhan_64271_SVM_Model_project.ipynb",
      "provenance": []
    },
    "kernelspec": {
      "display_name": "Python 3",
      "name": "python3"
    },
    "language_info": {
      "name": "python"
    }
  },
  "nbformat": 4,
  "nbformat_minor": 0
}