{
 "cells": [
  {
   "cell_type": "code",
   "execution_count": 1,
   "metadata": {},
   "outputs": [],
   "source": [
    "import pandas as pd\n",
    "from sklearn.metrics import accuracy_score # For Checking Accuracy\n",
    "from sklearn.model_selection import train_test_split # Splitting Data For Train Test\n",
    "from sklearn import metrics\n",
    "from sklearn.naive_bayes import MultinomialNB # For Multinomial Naive Bayes Model\n",
    "from sklearn.model_selection import cross_val_score # For Cross Validation\n",
    "import warnings\n",
    "warnings.filterwarnings('ignore')"
   ]
  },
  {
   "cell_type": "code",
   "execution_count": 9,
   "metadata": {},
   "outputs": [],
   "source": [
    "train = pd.read_csv('train.csv')\n",
    "test = pd.read_csv('test.csv')"
   ]
  },
  {
   "cell_type": "code",
   "execution_count": 10,
   "metadata": {},
   "outputs": [
    {
     "name": "stdout",
     "output_type": "stream",
     "text": [
      "   id      f_00      f_01      f_02      f_03      f_04      f_05      f_06  \\\n",
      "0   0 -1.373246  0.238887 -0.243376  0.567405 -0.647715  0.839326  0.113133   \n",
      "1   1  1.697021 -1.710322 -2.230332 -0.545661  1.113173 -1.552175  0.447825   \n",
      "2   2  1.681726  0.616746 -1.027689  0.810492 -0.609086  0.113965 -0.708660   \n",
      "3   3 -0.118172 -0.587835 -0.804638  2.086822  0.371005 -0.128831 -0.282575   \n",
      "4   4  1.148481 -0.176567 -0.664871 -1.101343  0.467875  0.500117  0.407515   \n",
      "\n",
      "   f_07  f_08  ...      f_22      f_23      f_24      f_25      f_26  \\\n",
      "0     1     5  ... -2.540739  0.766952 -2.730628 -0.208177  1.363402   \n",
      "1     1     3  ...  2.278315 -0.633658 -1.217077 -3.782194 -0.058316   \n",
      "2     1     0  ... -1.385775 -0.520558 -0.009121  2.788536 -3.703488   \n",
      "3     3     2  ...  0.572594 -1.653213  1.686035 -2.533098 -0.608601   \n",
      "4     3     3  ... -3.912929 -1.430366  2.127649 -3.306784  4.371371   \n",
      "\n",
      "         f_27        f_28  f_29  f_30  target  \n",
      "0  ABABDADBAB   67.609153     0     0       0  \n",
      "1  ACACCADCEB  377.096415     0     0       1  \n",
      "2  AAAEABCKAD -195.599702     0     2       1  \n",
      "3  BDBBAACBCB  210.826205     0     0       1  \n",
      "4  BDBCBBCHFE -217.211798     0     1       1  \n",
      "\n",
      "[5 rows x 33 columns]\n",
      "       id      f_00      f_01      f_02      f_03      f_04      f_05  \\\n",
      "0  900000  0.442517  0.174380 -0.999816  0.762741  0.186778 -1.074775   \n",
      "1  900001 -0.605598 -0.305715  0.627667 -0.578898 -1.750931  1.355550   \n",
      "2  900002  0.303990  2.445110  0.246515  0.818248  0.359731 -1.331845   \n",
      "3  900003  0.154053  0.260126 -1.367092 -0.093175 -1.111034 -0.948481   \n",
      "4  900004 -1.651904 -0.424266 -0.667356 -0.322124 -0.089462  0.181705   \n",
      "\n",
      "       f_06  f_07  f_08  ...      f_21      f_22      f_23      f_24  \\\n",
      "0  0.501888     6     6  ... -1.006400 -1.193879 -2.435736 -2.427430   \n",
      "1 -0.190911     1     3  ...  2.382405  0.149442  1.883322 -2.848714   \n",
      "2  1.358622     3     3  ... -7.026098  1.312277 -5.157192  1.714005   \n",
      "3  1.119220     0     0  ... -0.594532 -3.939475  1.754570 -2.364007   \n",
      "4  1.784983     2     2  ...  0.084906 -0.985736 -0.130467 -3.557893   \n",
      "\n",
      "       f_25      f_26        f_27        f_28  f_29  f_30  \n",
      "0 -1.966887  5.734205  BAAABADLAC   99.478419     0     0  \n",
      "1 -0.725155  3.194219  AFABBAEGCB  -65.993825     1     0  \n",
      "2  0.585032  0.066898  BBACABBKEE  -87.405622     0     1  \n",
      "3 -1.003320  3.893099  AEBEAACQCC -281.293460     0     0  \n",
      "4  1.210687  1.861884  AEBBBBDABF   25.629415     0     2  \n",
      "\n",
      "[5 rows x 32 columns]\n"
     ]
    }
   ],
   "source": [
    "print(train.head())\n",
    "print(test.head())"
   ]
  },
  {
   "cell_type": "code",
   "execution_count": 11,
   "metadata": {},
   "outputs": [
    {
     "name": "stdout",
     "output_type": "stream",
     "text": [
      "(900000, 33)\n",
      "(700000, 32)\n"
     ]
    }
   ],
   "source": [
    "print(train.shape)\n",
    "print(test.shape)"
   ]
  },
  {
   "cell_type": "code",
   "execution_count": 12,
   "metadata": {},
   "outputs": [],
   "source": [
    "del train['id']\n",
    "del train['f_27']\n",
    "\n",
    "# del test['id']\n",
    "del test['f_27']"
   ]
  },
  {
   "cell_type": "code",
   "execution_count": 13,
   "metadata": {},
   "outputs": [
    {
     "data": {
      "text/html": [
       "<div>\n",
       "<style scoped>\n",
       "    .dataframe tbody tr th:only-of-type {\n",
       "        vertical-align: middle;\n",
       "    }\n",
       "\n",
       "    .dataframe tbody tr th {\n",
       "        vertical-align: top;\n",
       "    }\n",
       "\n",
       "    .dataframe thead th {\n",
       "        text-align: right;\n",
       "    }\n",
       "</style>\n",
       "<table border=\"1\" class=\"dataframe\">\n",
       "  <thead>\n",
       "    <tr style=\"text-align: right;\">\n",
       "      <th></th>\n",
       "      <th>f_00</th>\n",
       "      <th>f_01</th>\n",
       "      <th>f_02</th>\n",
       "      <th>f_03</th>\n",
       "      <th>f_04</th>\n",
       "      <th>f_05</th>\n",
       "      <th>f_06</th>\n",
       "      <th>f_07</th>\n",
       "      <th>f_08</th>\n",
       "      <th>f_09</th>\n",
       "      <th>...</th>\n",
       "      <th>f_21</th>\n",
       "      <th>f_22</th>\n",
       "      <th>f_23</th>\n",
       "      <th>f_24</th>\n",
       "      <th>f_25</th>\n",
       "      <th>f_26</th>\n",
       "      <th>f_28</th>\n",
       "      <th>f_29</th>\n",
       "      <th>f_30</th>\n",
       "      <th>target</th>\n",
       "    </tr>\n",
       "  </thead>\n",
       "  <tbody>\n",
       "    <tr>\n",
       "      <th>0</th>\n",
       "      <td>-1.373246</td>\n",
       "      <td>0.238887</td>\n",
       "      <td>-0.243376</td>\n",
       "      <td>0.567405</td>\n",
       "      <td>-0.647715</td>\n",
       "      <td>0.839326</td>\n",
       "      <td>0.113133</td>\n",
       "      <td>1</td>\n",
       "      <td>5</td>\n",
       "      <td>1</td>\n",
       "      <td>...</td>\n",
       "      <td>3.058541</td>\n",
       "      <td>-2.540739</td>\n",
       "      <td>0.766952</td>\n",
       "      <td>-2.730628</td>\n",
       "      <td>-0.208177</td>\n",
       "      <td>1.363402</td>\n",
       "      <td>67.609153</td>\n",
       "      <td>0</td>\n",
       "      <td>0</td>\n",
       "      <td>0</td>\n",
       "    </tr>\n",
       "    <tr>\n",
       "      <th>1</th>\n",
       "      <td>1.697021</td>\n",
       "      <td>-1.710322</td>\n",
       "      <td>-2.230332</td>\n",
       "      <td>-0.545661</td>\n",
       "      <td>1.113173</td>\n",
       "      <td>-1.552175</td>\n",
       "      <td>0.447825</td>\n",
       "      <td>1</td>\n",
       "      <td>3</td>\n",
       "      <td>4</td>\n",
       "      <td>...</td>\n",
       "      <td>2.179050</td>\n",
       "      <td>2.278315</td>\n",
       "      <td>-0.633658</td>\n",
       "      <td>-1.217077</td>\n",
       "      <td>-3.782194</td>\n",
       "      <td>-0.058316</td>\n",
       "      <td>377.096415</td>\n",
       "      <td>0</td>\n",
       "      <td>0</td>\n",
       "      <td>1</td>\n",
       "    </tr>\n",
       "    <tr>\n",
       "      <th>2</th>\n",
       "      <td>1.681726</td>\n",
       "      <td>0.616746</td>\n",
       "      <td>-1.027689</td>\n",
       "      <td>0.810492</td>\n",
       "      <td>-0.609086</td>\n",
       "      <td>0.113965</td>\n",
       "      <td>-0.708660</td>\n",
       "      <td>1</td>\n",
       "      <td>0</td>\n",
       "      <td>2</td>\n",
       "      <td>...</td>\n",
       "      <td>-0.784235</td>\n",
       "      <td>-1.385775</td>\n",
       "      <td>-0.520558</td>\n",
       "      <td>-0.009121</td>\n",
       "      <td>2.788536</td>\n",
       "      <td>-3.703488</td>\n",
       "      <td>-195.599702</td>\n",
       "      <td>0</td>\n",
       "      <td>2</td>\n",
       "      <td>1</td>\n",
       "    </tr>\n",
       "    <tr>\n",
       "      <th>3</th>\n",
       "      <td>-0.118172</td>\n",
       "      <td>-0.587835</td>\n",
       "      <td>-0.804638</td>\n",
       "      <td>2.086822</td>\n",
       "      <td>0.371005</td>\n",
       "      <td>-0.128831</td>\n",
       "      <td>-0.282575</td>\n",
       "      <td>3</td>\n",
       "      <td>2</td>\n",
       "      <td>1</td>\n",
       "      <td>...</td>\n",
       "      <td>-2.343819</td>\n",
       "      <td>0.572594</td>\n",
       "      <td>-1.653213</td>\n",
       "      <td>1.686035</td>\n",
       "      <td>-2.533098</td>\n",
       "      <td>-0.608601</td>\n",
       "      <td>210.826205</td>\n",
       "      <td>0</td>\n",
       "      <td>0</td>\n",
       "      <td>1</td>\n",
       "    </tr>\n",
       "    <tr>\n",
       "      <th>4</th>\n",
       "      <td>1.148481</td>\n",
       "      <td>-0.176567</td>\n",
       "      <td>-0.664871</td>\n",
       "      <td>-1.101343</td>\n",
       "      <td>0.467875</td>\n",
       "      <td>0.500117</td>\n",
       "      <td>0.407515</td>\n",
       "      <td>3</td>\n",
       "      <td>3</td>\n",
       "      <td>0</td>\n",
       "      <td>...</td>\n",
       "      <td>1.133665</td>\n",
       "      <td>-3.912929</td>\n",
       "      <td>-1.430366</td>\n",
       "      <td>2.127649</td>\n",
       "      <td>-3.306784</td>\n",
       "      <td>4.371371</td>\n",
       "      <td>-217.211798</td>\n",
       "      <td>0</td>\n",
       "      <td>1</td>\n",
       "      <td>1</td>\n",
       "    </tr>\n",
       "  </tbody>\n",
       "</table>\n",
       "<p>5 rows × 31 columns</p>\n",
       "</div>"
      ],
      "text/plain": [
       "       f_00      f_01      f_02      f_03      f_04      f_05      f_06  f_07  \\\n",
       "0 -1.373246  0.238887 -0.243376  0.567405 -0.647715  0.839326  0.113133     1   \n",
       "1  1.697021 -1.710322 -2.230332 -0.545661  1.113173 -1.552175  0.447825     1   \n",
       "2  1.681726  0.616746 -1.027689  0.810492 -0.609086  0.113965 -0.708660     1   \n",
       "3 -0.118172 -0.587835 -0.804638  2.086822  0.371005 -0.128831 -0.282575     3   \n",
       "4  1.148481 -0.176567 -0.664871 -1.101343  0.467875  0.500117  0.407515     3   \n",
       "\n",
       "   f_08  f_09  ...      f_21      f_22      f_23      f_24      f_25  \\\n",
       "0     5     1  ...  3.058541 -2.540739  0.766952 -2.730628 -0.208177   \n",
       "1     3     4  ...  2.179050  2.278315 -0.633658 -1.217077 -3.782194   \n",
       "2     0     2  ... -0.784235 -1.385775 -0.520558 -0.009121  2.788536   \n",
       "3     2     1  ... -2.343819  0.572594 -1.653213  1.686035 -2.533098   \n",
       "4     3     0  ...  1.133665 -3.912929 -1.430366  2.127649 -3.306784   \n",
       "\n",
       "       f_26        f_28  f_29  f_30  target  \n",
       "0  1.363402   67.609153     0     0       0  \n",
       "1 -0.058316  377.096415     0     0       1  \n",
       "2 -3.703488 -195.599702     0     2       1  \n",
       "3 -0.608601  210.826205     0     0       1  \n",
       "4  4.371371 -217.211798     0     1       1  \n",
       "\n",
       "[5 rows x 31 columns]"
      ]
     },
     "execution_count": 13,
     "metadata": {},
     "output_type": "execute_result"
    }
   ],
   "source": [
    "train.head()"
   ]
  },
  {
   "cell_type": "code",
   "execution_count": 14,
   "metadata": {},
   "outputs": [
    {
     "name": "stdout",
     "output_type": "stream",
     "text": [
      "MinMaxScaler()\n"
     ]
    }
   ],
   "source": [
    "from sklearn.preprocessing import MinMaxScaler\n",
    "trainDTar = train.drop(columns=['target'])\n",
    "scaler = MinMaxScaler()\n",
    "print(scaler.fit(trainDTar))\n",
    "newtrain = scaler.transform(trainDTar)"
   ]
  },
  {
   "cell_type": "code",
   "execution_count": 15,
   "metadata": {},
   "outputs": [],
   "source": [
    "lstCol = list(trainDTar.columns)"
   ]
  },
  {
   "cell_type": "code",
   "execution_count": 16,
   "metadata": {},
   "outputs": [],
   "source": [
    "newtrainDF = pd.DataFrame(newtrain, columns=lstCol)"
   ]
  },
  {
   "cell_type": "code",
   "execution_count": 17,
   "metadata": {},
   "outputs": [
    {
     "data": {
      "text/html": [
       "<div>\n",
       "<style scoped>\n",
       "    .dataframe tbody tr th:only-of-type {\n",
       "        vertical-align: middle;\n",
       "    }\n",
       "\n",
       "    .dataframe tbody tr th {\n",
       "        vertical-align: top;\n",
       "    }\n",
       "\n",
       "    .dataframe thead th {\n",
       "        text-align: right;\n",
       "    }\n",
       "</style>\n",
       "<table border=\"1\" class=\"dataframe\">\n",
       "  <thead>\n",
       "    <tr style=\"text-align: right;\">\n",
       "      <th></th>\n",
       "      <th>f_00</th>\n",
       "      <th>f_01</th>\n",
       "      <th>f_02</th>\n",
       "      <th>f_03</th>\n",
       "      <th>f_04</th>\n",
       "      <th>f_05</th>\n",
       "      <th>f_06</th>\n",
       "      <th>f_07</th>\n",
       "      <th>f_08</th>\n",
       "      <th>f_09</th>\n",
       "      <th>...</th>\n",
       "      <th>f_20</th>\n",
       "      <th>f_21</th>\n",
       "      <th>f_22</th>\n",
       "      <th>f_23</th>\n",
       "      <th>f_24</th>\n",
       "      <th>f_25</th>\n",
       "      <th>f_26</th>\n",
       "      <th>f_28</th>\n",
       "      <th>f_29</th>\n",
       "      <th>f_30</th>\n",
       "    </tr>\n",
       "  </thead>\n",
       "  <tbody>\n",
       "    <tr>\n",
       "      <th>0</th>\n",
       "      <td>0.345123</td>\n",
       "      <td>0.518124</td>\n",
       "      <td>0.458038</td>\n",
       "      <td>0.573444</td>\n",
       "      <td>0.422871</td>\n",
       "      <td>0.574932</td>\n",
       "      <td>0.512752</td>\n",
       "      <td>0.066667</td>\n",
       "      <td>0.3125</td>\n",
       "      <td>0.071429</td>\n",
       "      <td>...</td>\n",
       "      <td>0.454761</td>\n",
       "      <td>0.589532</td>\n",
       "      <td>0.401455</td>\n",
       "      <td>0.532343</td>\n",
       "      <td>0.364847</td>\n",
       "      <td>0.478991</td>\n",
       "      <td>0.575593</td>\n",
       "      <td>0.527530</td>\n",
       "      <td>0.0</td>\n",
       "      <td>0.0</td>\n",
       "    </tr>\n",
       "    <tr>\n",
       "      <th>1</th>\n",
       "      <td>0.673523</td>\n",
       "      <td>0.312898</td>\n",
       "      <td>0.251164</td>\n",
       "      <td>0.451314</td>\n",
       "      <td>0.604453</td>\n",
       "      <td>0.328946</td>\n",
       "      <td>0.547380</td>\n",
       "      <td>0.066667</td>\n",
       "      <td>0.1875</td>\n",
       "      <td>0.285714</td>\n",
       "      <td>...</td>\n",
       "      <td>0.447912</td>\n",
       "      <td>0.557856</td>\n",
       "      <td>0.609194</td>\n",
       "      <td>0.475287</td>\n",
       "      <td>0.428426</td>\n",
       "      <td>0.332800</td>\n",
       "      <td>0.523351</td>\n",
       "      <td>0.653373</td>\n",
       "      <td>0.0</td>\n",
       "      <td>0.0</td>\n",
       "    </tr>\n",
       "    <tr>\n",
       "      <th>2</th>\n",
       "      <td>0.671888</td>\n",
       "      <td>0.557907</td>\n",
       "      <td>0.376379</td>\n",
       "      <td>0.600117</td>\n",
       "      <td>0.426854</td>\n",
       "      <td>0.500322</td>\n",
       "      <td>0.427730</td>\n",
       "      <td>0.066667</td>\n",
       "      <td>0.0000</td>\n",
       "      <td>0.142857</td>\n",
       "      <td>...</td>\n",
       "      <td>0.341903</td>\n",
       "      <td>0.451131</td>\n",
       "      <td>0.451243</td>\n",
       "      <td>0.479894</td>\n",
       "      <td>0.479167</td>\n",
       "      <td>0.601569</td>\n",
       "      <td>0.389404</td>\n",
       "      <td>0.420505</td>\n",
       "      <td>0.0</td>\n",
       "      <td>1.0</td>\n",
       "    </tr>\n",
       "    <tr>\n",
       "      <th>3</th>\n",
       "      <td>0.479368</td>\n",
       "      <td>0.431081</td>\n",
       "      <td>0.399602</td>\n",
       "      <td>0.740162</td>\n",
       "      <td>0.527921</td>\n",
       "      <td>0.475348</td>\n",
       "      <td>0.471812</td>\n",
       "      <td>0.200000</td>\n",
       "      <td>0.1250</td>\n",
       "      <td>0.071429</td>\n",
       "      <td>...</td>\n",
       "      <td>0.402835</td>\n",
       "      <td>0.394961</td>\n",
       "      <td>0.535664</td>\n",
       "      <td>0.433754</td>\n",
       "      <td>0.550374</td>\n",
       "      <td>0.383893</td>\n",
       "      <td>0.503130</td>\n",
       "      <td>0.585764</td>\n",
       "      <td>0.0</td>\n",
       "      <td>0.0</td>\n",
       "    </tr>\n",
       "    <tr>\n",
       "      <th>4</th>\n",
       "      <td>0.614851</td>\n",
       "      <td>0.474382</td>\n",
       "      <td>0.414154</td>\n",
       "      <td>0.390342</td>\n",
       "      <td>0.537910</td>\n",
       "      <td>0.540041</td>\n",
       "      <td>0.543209</td>\n",
       "      <td>0.200000</td>\n",
       "      <td>0.1875</td>\n",
       "      <td>0.000000</td>\n",
       "      <td>...</td>\n",
       "      <td>0.521833</td>\n",
       "      <td>0.520206</td>\n",
       "      <td>0.342303</td>\n",
       "      <td>0.442832</td>\n",
       "      <td>0.568925</td>\n",
       "      <td>0.352246</td>\n",
       "      <td>0.686125</td>\n",
       "      <td>0.411717</td>\n",
       "      <td>0.0</td>\n",
       "      <td>0.5</td>\n",
       "    </tr>\n",
       "    <tr>\n",
       "      <th>...</th>\n",
       "      <td>...</td>\n",
       "      <td>...</td>\n",
       "      <td>...</td>\n",
       "      <td>...</td>\n",
       "      <td>...</td>\n",
       "      <td>...</td>\n",
       "      <td>...</td>\n",
       "      <td>...</td>\n",
       "      <td>...</td>\n",
       "      <td>...</td>\n",
       "      <td>...</td>\n",
       "      <td>...</td>\n",
       "      <td>...</td>\n",
       "      <td>...</td>\n",
       "      <td>...</td>\n",
       "      <td>...</td>\n",
       "      <td>...</td>\n",
       "      <td>...</td>\n",
       "      <td>...</td>\n",
       "      <td>...</td>\n",
       "      <td>...</td>\n",
       "    </tr>\n",
       "    <tr>\n",
       "      <th>899995</th>\n",
       "      <td>0.639630</td>\n",
       "      <td>0.488878</td>\n",
       "      <td>0.545546</td>\n",
       "      <td>0.604952</td>\n",
       "      <td>0.560228</td>\n",
       "      <td>0.379712</td>\n",
       "      <td>0.636652</td>\n",
       "      <td>0.133333</td>\n",
       "      <td>0.0625</td>\n",
       "      <td>0.142857</td>\n",
       "      <td>...</td>\n",
       "      <td>0.378928</td>\n",
       "      <td>0.401083</td>\n",
       "      <td>0.442235</td>\n",
       "      <td>0.522365</td>\n",
       "      <td>0.514543</td>\n",
       "      <td>0.598525</td>\n",
       "      <td>0.572900</td>\n",
       "      <td>0.685063</td>\n",
       "      <td>0.0</td>\n",
       "      <td>1.0</td>\n",
       "    </tr>\n",
       "    <tr>\n",
       "      <th>899996</th>\n",
       "      <td>0.345493</td>\n",
       "      <td>0.497693</td>\n",
       "      <td>0.484987</td>\n",
       "      <td>0.552505</td>\n",
       "      <td>0.450423</td>\n",
       "      <td>0.403143</td>\n",
       "      <td>0.314979</td>\n",
       "      <td>0.266667</td>\n",
       "      <td>0.0625</td>\n",
       "      <td>0.142857</td>\n",
       "      <td>...</td>\n",
       "      <td>0.527849</td>\n",
       "      <td>0.292432</td>\n",
       "      <td>0.615039</td>\n",
       "      <td>0.473605</td>\n",
       "      <td>0.462239</td>\n",
       "      <td>0.486261</td>\n",
       "      <td>0.409961</td>\n",
       "      <td>0.554812</td>\n",
       "      <td>0.0</td>\n",
       "      <td>0.5</td>\n",
       "    </tr>\n",
       "    <tr>\n",
       "      <th>899997</th>\n",
       "      <td>0.640278</td>\n",
       "      <td>0.391776</td>\n",
       "      <td>0.558965</td>\n",
       "      <td>0.496610</td>\n",
       "      <td>0.579781</td>\n",
       "      <td>0.463365</td>\n",
       "      <td>0.392851</td>\n",
       "      <td>0.000000</td>\n",
       "      <td>0.0000</td>\n",
       "      <td>0.428571</td>\n",
       "      <td>...</td>\n",
       "      <td>0.549324</td>\n",
       "      <td>0.430328</td>\n",
       "      <td>0.504431</td>\n",
       "      <td>0.315311</td>\n",
       "      <td>0.427078</td>\n",
       "      <td>0.560869</td>\n",
       "      <td>0.608308</td>\n",
       "      <td>0.459566</td>\n",
       "      <td>0.0</td>\n",
       "      <td>0.5</td>\n",
       "    </tr>\n",
       "    <tr>\n",
       "      <th>899998</th>\n",
       "      <td>0.321878</td>\n",
       "      <td>0.439283</td>\n",
       "      <td>0.304777</td>\n",
       "      <td>0.483756</td>\n",
       "      <td>0.629899</td>\n",
       "      <td>0.658399</td>\n",
       "      <td>0.494986</td>\n",
       "      <td>0.000000</td>\n",
       "      <td>0.1250</td>\n",
       "      <td>0.142857</td>\n",
       "      <td>...</td>\n",
       "      <td>0.603026</td>\n",
       "      <td>0.386534</td>\n",
       "      <td>0.615460</td>\n",
       "      <td>0.587054</td>\n",
       "      <td>0.503127</td>\n",
       "      <td>0.399579</td>\n",
       "      <td>0.562974</td>\n",
       "      <td>0.519484</td>\n",
       "      <td>1.0</td>\n",
       "      <td>1.0</td>\n",
       "    </tr>\n",
       "    <tr>\n",
       "      <th>899999</th>\n",
       "      <td>0.423958</td>\n",
       "      <td>0.448122</td>\n",
       "      <td>0.293189</td>\n",
       "      <td>0.445484</td>\n",
       "      <td>0.653580</td>\n",
       "      <td>0.438991</td>\n",
       "      <td>0.478898</td>\n",
       "      <td>0.466667</td>\n",
       "      <td>0.0625</td>\n",
       "      <td>0.285714</td>\n",
       "      <td>...</td>\n",
       "      <td>0.546197</td>\n",
       "      <td>0.457330</td>\n",
       "      <td>0.568775</td>\n",
       "      <td>0.654364</td>\n",
       "      <td>0.555041</td>\n",
       "      <td>0.470620</td>\n",
       "      <td>0.602309</td>\n",
       "      <td>0.481920</td>\n",
       "      <td>0.0</td>\n",
       "      <td>1.0</td>\n",
       "    </tr>\n",
       "  </tbody>\n",
       "</table>\n",
       "<p>900000 rows × 30 columns</p>\n",
       "</div>"
      ],
      "text/plain": [
       "            f_00      f_01      f_02      f_03      f_04      f_05      f_06  \\\n",
       "0       0.345123  0.518124  0.458038  0.573444  0.422871  0.574932  0.512752   \n",
       "1       0.673523  0.312898  0.251164  0.451314  0.604453  0.328946  0.547380   \n",
       "2       0.671888  0.557907  0.376379  0.600117  0.426854  0.500322  0.427730   \n",
       "3       0.479368  0.431081  0.399602  0.740162  0.527921  0.475348  0.471812   \n",
       "4       0.614851  0.474382  0.414154  0.390342  0.537910  0.540041  0.543209   \n",
       "...          ...       ...       ...       ...       ...       ...       ...   \n",
       "899995  0.639630  0.488878  0.545546  0.604952  0.560228  0.379712  0.636652   \n",
       "899996  0.345493  0.497693  0.484987  0.552505  0.450423  0.403143  0.314979   \n",
       "899997  0.640278  0.391776  0.558965  0.496610  0.579781  0.463365  0.392851   \n",
       "899998  0.321878  0.439283  0.304777  0.483756  0.629899  0.658399  0.494986   \n",
       "899999  0.423958  0.448122  0.293189  0.445484  0.653580  0.438991  0.478898   \n",
       "\n",
       "            f_07    f_08      f_09  ...      f_20      f_21      f_22  \\\n",
       "0       0.066667  0.3125  0.071429  ...  0.454761  0.589532  0.401455   \n",
       "1       0.066667  0.1875  0.285714  ...  0.447912  0.557856  0.609194   \n",
       "2       0.066667  0.0000  0.142857  ...  0.341903  0.451131  0.451243   \n",
       "3       0.200000  0.1250  0.071429  ...  0.402835  0.394961  0.535664   \n",
       "4       0.200000  0.1875  0.000000  ...  0.521833  0.520206  0.342303   \n",
       "...          ...     ...       ...  ...       ...       ...       ...   \n",
       "899995  0.133333  0.0625  0.142857  ...  0.378928  0.401083  0.442235   \n",
       "899996  0.266667  0.0625  0.142857  ...  0.527849  0.292432  0.615039   \n",
       "899997  0.000000  0.0000  0.428571  ...  0.549324  0.430328  0.504431   \n",
       "899998  0.000000  0.1250  0.142857  ...  0.603026  0.386534  0.615460   \n",
       "899999  0.466667  0.0625  0.285714  ...  0.546197  0.457330  0.568775   \n",
       "\n",
       "            f_23      f_24      f_25      f_26      f_28  f_29  f_30  \n",
       "0       0.532343  0.364847  0.478991  0.575593  0.527530   0.0   0.0  \n",
       "1       0.475287  0.428426  0.332800  0.523351  0.653373   0.0   0.0  \n",
       "2       0.479894  0.479167  0.601569  0.389404  0.420505   0.0   1.0  \n",
       "3       0.433754  0.550374  0.383893  0.503130  0.585764   0.0   0.0  \n",
       "4       0.442832  0.568925  0.352246  0.686125  0.411717   0.0   0.5  \n",
       "...          ...       ...       ...       ...       ...   ...   ...  \n",
       "899995  0.522365  0.514543  0.598525  0.572900  0.685063   0.0   1.0  \n",
       "899996  0.473605  0.462239  0.486261  0.409961  0.554812   0.0   0.5  \n",
       "899997  0.315311  0.427078  0.560869  0.608308  0.459566   0.0   0.5  \n",
       "899998  0.587054  0.503127  0.399579  0.562974  0.519484   1.0   1.0  \n",
       "899999  0.654364  0.555041  0.470620  0.602309  0.481920   0.0   1.0  \n",
       "\n",
       "[900000 rows x 30 columns]"
      ]
     },
     "execution_count": 17,
     "metadata": {},
     "output_type": "execute_result"
    }
   ],
   "source": [
    "newtrainDF"
   ]
  },
  {
   "cell_type": "code",
   "execution_count": 18,
   "metadata": {},
   "outputs": [],
   "source": [
    "# Separating Target & Other Columns\n",
    "X = newtrainDF\n",
    "y = train['target']"
   ]
  },
  {
   "cell_type": "code",
   "execution_count": 19,
   "metadata": {},
   "outputs": [],
   "source": [
    "X_train, X_test, y_train, y_test = train_test_split(X, y, test_size=0.3, random_state=42)"
   ]
  },
  {
   "cell_type": "code",
   "execution_count": 21,
   "metadata": {},
   "outputs": [
    {
     "name": "stdout",
     "output_type": "stream",
     "text": [
      "(630000, 30)\n",
      "(270000, 30)\n",
      "(630000,)\n",
      "(270000,)\n"
     ]
    }
   ],
   "source": [
    "print(X_train.shape)\n",
    "print(X_test.shape)\n",
    "print(y_train.shape)\n",
    "print(y_test.shape)\n"
   ]
  },
  {
   "cell_type": "code",
   "execution_count": 22,
   "metadata": {},
   "outputs": [
    {
     "name": "stdout",
     "output_type": "stream",
     "text": [
      "54.7937037037037\n"
     ]
    }
   ],
   "source": [
    "from sklearn.naive_bayes import MultinomialNB # For Multinomial Naive Bayes Model\n",
    "mnb_clf = MultinomialNB() # Initializing Multinomial Naive Bayes\n",
    "res = mnb_clf.fit(X_train, y_train) # Fitting Model According to Training Data\n",
    "mnbPred = mnb_clf.predict(X_test) # Predicting Data\n",
    "mnbAcc = metrics.accuracy_score(y_test, mnbPred) # Accuracy Score\n",
    "print (mnbAcc*100) # *100 to clarify more like (e.g : 0.971 --> 97.1)"
   ]
  },
  {
   "cell_type": "code",
   "execution_count": 23,
   "metadata": {},
   "outputs": [
    {
     "name": "stdout",
     "output_type": "stream",
     "text": [
      "Naive Bayes Scores:  [0.54895238 0.54609524 0.54777143 0.54641905 0.5498     0.54671429]\n",
      "Naive Bayes Mean Score:  0.5476253968253968\n"
     ]
    }
   ],
   "source": [
    "# ======== NAIVE BAYES ======== \n",
    "nav_clf = MultinomialNB(alpha=0.5)\n",
    "nav_scores = cross_val_score(nav_clf, X_train, y_train, cv=6)\n",
    "print('Naive Bayes Scores: ',nav_scores)\n",
    "nav_mean = nav_scores.mean()\n",
    "print('Naive Bayes Mean Score: ',nav_mean)"
   ]
  },
  {
   "cell_type": "code",
   "execution_count": 24,
   "metadata": {},
   "outputs": [
    {
     "name": "stdout",
     "output_type": "stream",
     "text": [
      "(900000, 31)\n",
      "(700000, 31)\n"
     ]
    }
   ],
   "source": [
    "print(train.shape)\n",
    "print(test.shape)"
   ]
  },
  {
   "cell_type": "code",
   "execution_count": 25,
   "metadata": {},
   "outputs": [],
   "source": [
    "Mustafa = test[['id']]"
   ]
  },
  {
   "cell_type": "code",
   "execution_count": 26,
   "metadata": {},
   "outputs": [
    {
     "data": {
      "text/html": [
       "<div>\n",
       "<style scoped>\n",
       "    .dataframe tbody tr th:only-of-type {\n",
       "        vertical-align: middle;\n",
       "    }\n",
       "\n",
       "    .dataframe tbody tr th {\n",
       "        vertical-align: top;\n",
       "    }\n",
       "\n",
       "    .dataframe thead th {\n",
       "        text-align: right;\n",
       "    }\n",
       "</style>\n",
       "<table border=\"1\" class=\"dataframe\">\n",
       "  <thead>\n",
       "    <tr style=\"text-align: right;\">\n",
       "      <th></th>\n",
       "      <th>id</th>\n",
       "    </tr>\n",
       "  </thead>\n",
       "  <tbody>\n",
       "    <tr>\n",
       "      <th>0</th>\n",
       "      <td>900000</td>\n",
       "    </tr>\n",
       "    <tr>\n",
       "      <th>1</th>\n",
       "      <td>900001</td>\n",
       "    </tr>\n",
       "    <tr>\n",
       "      <th>2</th>\n",
       "      <td>900002</td>\n",
       "    </tr>\n",
       "    <tr>\n",
       "      <th>3</th>\n",
       "      <td>900003</td>\n",
       "    </tr>\n",
       "    <tr>\n",
       "      <th>4</th>\n",
       "      <td>900004</td>\n",
       "    </tr>\n",
       "    <tr>\n",
       "      <th>...</th>\n",
       "      <td>...</td>\n",
       "    </tr>\n",
       "    <tr>\n",
       "      <th>699995</th>\n",
       "      <td>1599995</td>\n",
       "    </tr>\n",
       "    <tr>\n",
       "      <th>699996</th>\n",
       "      <td>1599996</td>\n",
       "    </tr>\n",
       "    <tr>\n",
       "      <th>699997</th>\n",
       "      <td>1599997</td>\n",
       "    </tr>\n",
       "    <tr>\n",
       "      <th>699998</th>\n",
       "      <td>1599998</td>\n",
       "    </tr>\n",
       "    <tr>\n",
       "      <th>699999</th>\n",
       "      <td>1599999</td>\n",
       "    </tr>\n",
       "  </tbody>\n",
       "</table>\n",
       "<p>700000 rows × 1 columns</p>\n",
       "</div>"
      ],
      "text/plain": [
       "             id\n",
       "0        900000\n",
       "1        900001\n",
       "2        900002\n",
       "3        900003\n",
       "4        900004\n",
       "...         ...\n",
       "699995  1599995\n",
       "699996  1599996\n",
       "699997  1599997\n",
       "699998  1599998\n",
       "699999  1599999\n",
       "\n",
       "[700000 rows x 1 columns]"
      ]
     },
     "execution_count": 26,
     "metadata": {},
     "output_type": "execute_result"
    }
   ],
   "source": [
    "Mustafa"
   ]
  },
  {
   "cell_type": "code",
   "execution_count": 27,
   "metadata": {},
   "outputs": [],
   "source": [
    "prd = test.drop(columns=['id'])"
   ]
  },
  {
   "cell_type": "code",
   "execution_count": 28,
   "metadata": {},
   "outputs": [
    {
     "data": {
      "text/html": [
       "<div>\n",
       "<style scoped>\n",
       "    .dataframe tbody tr th:only-of-type {\n",
       "        vertical-align: middle;\n",
       "    }\n",
       "\n",
       "    .dataframe tbody tr th {\n",
       "        vertical-align: top;\n",
       "    }\n",
       "\n",
       "    .dataframe thead th {\n",
       "        text-align: right;\n",
       "    }\n",
       "</style>\n",
       "<table border=\"1\" class=\"dataframe\">\n",
       "  <thead>\n",
       "    <tr style=\"text-align: right;\">\n",
       "      <th></th>\n",
       "      <th>f_00</th>\n",
       "      <th>f_01</th>\n",
       "      <th>f_02</th>\n",
       "      <th>f_03</th>\n",
       "      <th>f_04</th>\n",
       "      <th>f_05</th>\n",
       "      <th>f_06</th>\n",
       "      <th>f_07</th>\n",
       "      <th>f_08</th>\n",
       "      <th>f_09</th>\n",
       "      <th>...</th>\n",
       "      <th>f_20</th>\n",
       "      <th>f_21</th>\n",
       "      <th>f_22</th>\n",
       "      <th>f_23</th>\n",
       "      <th>f_24</th>\n",
       "      <th>f_25</th>\n",
       "      <th>f_26</th>\n",
       "      <th>f_28</th>\n",
       "      <th>f_29</th>\n",
       "      <th>f_30</th>\n",
       "    </tr>\n",
       "  </thead>\n",
       "  <tbody>\n",
       "    <tr>\n",
       "      <th>0</th>\n",
       "      <td>0.442517</td>\n",
       "      <td>0.17438</td>\n",
       "      <td>-0.999816</td>\n",
       "      <td>0.762741</td>\n",
       "      <td>0.186778</td>\n",
       "      <td>-1.074775</td>\n",
       "      <td>0.501888</td>\n",
       "      <td>6</td>\n",
       "      <td>6</td>\n",
       "      <td>0</td>\n",
       "      <td>...</td>\n",
       "      <td>2.749347</td>\n",
       "      <td>-1.0064</td>\n",
       "      <td>-1.193879</td>\n",
       "      <td>-2.435736</td>\n",
       "      <td>-2.42743</td>\n",
       "      <td>-1.966887</td>\n",
       "      <td>5.734205</td>\n",
       "      <td>99.478419</td>\n",
       "      <td>0</td>\n",
       "      <td>0</td>\n",
       "    </tr>\n",
       "  </tbody>\n",
       "</table>\n",
       "<p>1 rows × 30 columns</p>\n",
       "</div>"
      ],
      "text/plain": [
       "       f_00     f_01      f_02      f_03      f_04      f_05      f_06  f_07  \\\n",
       "0  0.442517  0.17438 -0.999816  0.762741  0.186778 -1.074775  0.501888     6   \n",
       "\n",
       "   f_08  f_09  ...      f_20    f_21      f_22      f_23     f_24      f_25  \\\n",
       "0     6     0  ...  2.749347 -1.0064 -1.193879 -2.435736 -2.42743 -1.966887   \n",
       "\n",
       "       f_26       f_28  f_29  f_30  \n",
       "0  5.734205  99.478419     0     0  \n",
       "\n",
       "[1 rows x 30 columns]"
      ]
     },
     "execution_count": 28,
     "metadata": {},
     "output_type": "execute_result"
    }
   ],
   "source": [
    "prd.head(1)"
   ]
  },
  {
   "cell_type": "code",
   "execution_count": 29,
   "metadata": {},
   "outputs": [],
   "source": [
    "testPRD = mnb_clf.predict(prd)"
   ]
  },
  {
   "cell_type": "code",
   "execution_count": 30,
   "metadata": {},
   "outputs": [
    {
     "name": "stdout",
     "output_type": "stream",
     "text": [
      "[0 1 0 ... 0 0 0]\n"
     ]
    }
   ],
   "source": [
    "print(testPRD)"
   ]
  },
  {
   "cell_type": "code",
   "execution_count": 32,
   "metadata": {},
   "outputs": [],
   "source": [
    "Mustafa['target'] = testPRD"
   ]
  },
  {
   "cell_type": "code",
   "execution_count": 33,
   "metadata": {},
   "outputs": [
    {
     "data": {
      "text/html": [
       "<div>\n",
       "<style scoped>\n",
       "    .dataframe tbody tr th:only-of-type {\n",
       "        vertical-align: middle;\n",
       "    }\n",
       "\n",
       "    .dataframe tbody tr th {\n",
       "        vertical-align: top;\n",
       "    }\n",
       "\n",
       "    .dataframe thead th {\n",
       "        text-align: right;\n",
       "    }\n",
       "</style>\n",
       "<table border=\"1\" class=\"dataframe\">\n",
       "  <thead>\n",
       "    <tr style=\"text-align: right;\">\n",
       "      <th></th>\n",
       "      <th>id</th>\n",
       "      <th>target</th>\n",
       "    </tr>\n",
       "  </thead>\n",
       "  <tbody>\n",
       "    <tr>\n",
       "      <th>0</th>\n",
       "      <td>900000</td>\n",
       "      <td>0</td>\n",
       "    </tr>\n",
       "    <tr>\n",
       "      <th>1</th>\n",
       "      <td>900001</td>\n",
       "      <td>1</td>\n",
       "    </tr>\n",
       "    <tr>\n",
       "      <th>2</th>\n",
       "      <td>900002</td>\n",
       "      <td>0</td>\n",
       "    </tr>\n",
       "    <tr>\n",
       "      <th>3</th>\n",
       "      <td>900003</td>\n",
       "      <td>0</td>\n",
       "    </tr>\n",
       "    <tr>\n",
       "      <th>4</th>\n",
       "      <td>900004</td>\n",
       "      <td>1</td>\n",
       "    </tr>\n",
       "  </tbody>\n",
       "</table>\n",
       "</div>"
      ],
      "text/plain": [
       "       id  target\n",
       "0  900000       0\n",
       "1  900001       1\n",
       "2  900002       0\n",
       "3  900003       0\n",
       "4  900004       1"
      ]
     },
     "execution_count": 33,
     "metadata": {},
     "output_type": "execute_result"
    }
   ],
   "source": [
    "Mustafa.head()"
   ]
  },
  {
   "cell_type": "code",
   "execution_count": 34,
   "metadata": {},
   "outputs": [
    {
     "data": {
      "text/plain": [
       "(700000, 2)"
      ]
     },
     "execution_count": 34,
     "metadata": {},
     "output_type": "execute_result"
    }
   ],
   "source": [
    "Mustafa.shape"
   ]
  },
  {
   "cell_type": "code",
   "execution_count": 35,
   "metadata": {},
   "outputs": [],
   "source": [
    "Mustafa.to_csv('Mustafa.csv', index=False)"
   ]
  },
  {
   "cell_type": "code",
   "execution_count": 36,
   "metadata": {},
   "outputs": [],
   "source": [
    "import numpy as np"
   ]
  },
  {
   "cell_type": "code",
   "execution_count": 37,
   "metadata": {},
   "outputs": [],
   "source": [
    "param_grid_nb = {\n",
    "    'var_smoothing': np.logspace(0,-9, num=100)\n",
    "}"
   ]
  },
  {
   "cell_type": "code",
   "execution_count": 39,
   "metadata": {},
   "outputs": [
    {
     "name": "stdout",
     "output_type": "stream",
     "text": [
      "Fitting 10 folds for each of 6 candidates, totalling 60 fits\n"
     ]
    },
    {
     "name": "stderr",
     "output_type": "stream",
     "text": [
      "[Parallel(n_jobs=-1)]: Using backend LokyBackend with 4 concurrent workers.\n",
      "[Parallel(n_jobs=-1)]: Done   5 tasks      | elapsed:   21.9s\n",
      "[Parallel(n_jobs=-1)]: Done  10 tasks      | elapsed:   25.2s\n",
      "[Parallel(n_jobs=-1)]: Done  17 tasks      | elapsed:   30.8s\n",
      "[Parallel(n_jobs=-1)]: Done  24 tasks      | elapsed:   32.0s\n",
      "[Parallel(n_jobs=-1)]: Done  33 tasks      | elapsed:   34.9s\n",
      "[Parallel(n_jobs=-1)]: Done  42 tasks      | elapsed:   37.0s\n",
      "[Parallel(n_jobs=-1)]: Done  53 tasks      | elapsed:   40.1s\n",
      "[Parallel(n_jobs=-1)]: Done  60 out of  60 | elapsed:   41.3s remaining:    0.0s\n",
      "[Parallel(n_jobs=-1)]: Done  60 out of  60 | elapsed:   41.3s finished\n"
     ]
    },
    {
     "name": "stdout",
     "output_type": "stream",
     "text": [
      "Train Accuracy : 0.548\n",
      "Test Accuracy : 0.548\n",
      "Best Accuracy Through Grid Search : 0.548\n",
      "Best Parameters :  {'alpha': 0.6}\n"
     ]
    }
   ],
   "source": [
    "from sklearn.model_selection import GridSearchCV\n",
    "\n",
    "params = {'alpha': [0.01, 0.1,0.6,0.8, 4.0, 6.0],\n",
    "         }\n",
    "\n",
    "multinomial_nb_grid = GridSearchCV(MultinomialNB(), param_grid=params, n_jobs=-1, cv=10, verbose=10)\n",
    "multinomial_nb_grid.fit(X,y)\n",
    "\n",
    "print('Train Accuracy : %.3f'%multinomial_nb_grid.best_estimator_.score(X_train, y_train))\n",
    "print('Test Accuracy : %.3f'%multinomial_nb_grid.best_estimator_.score(X_test, y_test))\n",
    "print('Best Accuracy Through Grid Search : %.3f'%multinomial_nb_grid.best_score_)\n",
    "print('Best Parameters : ',multinomial_nb_grid.best_params_)"
   ]
  },
  {
   "cell_type": "code",
   "execution_count": 40,
   "metadata": {},
   "outputs": [
    {
     "name": "stdout",
     "output_type": "stream",
     "text": [
      "Naive Bayes Scores:  [0.54895238 0.54609524 0.54777143 0.54641905 0.5498     0.54671429]\n",
      "Naive Bayes Mean Score:  0.5476253968253968\n"
     ]
    }
   ],
   "source": [
    "# ======== NAIVE BAYES ======== \n",
    "nav_clf = MultinomialNB(alpha=0.5)\n",
    "nav_scores = cross_val_score(nav_clf, X_train, y_train, cv=6)\n",
    "print('Naive Bayes Scores: ',nav_scores)\n",
    "nav_mean = nav_scores.mean()\n",
    "print('Naive Bayes Mean Score: ',nav_mean)"
   ]
  },
  {
   "cell_type": "code",
   "execution_count": 41,
   "metadata": {},
   "outputs": [
    {
     "name": "stdout",
     "output_type": "stream",
     "text": [
      "Naive Bayes Scores:  [0.54895238 0.54609524 0.54777143 0.54641905 0.5498     0.54671429]\n",
      "Naive Bayes Mean Score:  0.5476253968253968\n"
     ]
    }
   ],
   "source": [
    "# ======== NAIVE BAYES ======== \n",
    "nav_clf = MultinomialNB(alpha=0.9)\n",
    "nav_scores = cross_val_score(nav_clf, X_train, y_train, cv=6)\n",
    "print('Naive Bayes Scores: ',nav_scores)\n",
    "nav_mean = nav_scores.mean()\n",
    "print('Naive Bayes Mean Score: ',nav_mean)"
   ]
  },
  {
   "cell_type": "code",
   "execution_count": 42,
   "metadata": {},
   "outputs": [
    {
     "name": "stdout",
     "output_type": "stream",
     "text": [
      "Naive Bayes Scores:  [0.54895238 0.54609524 0.54777143 0.54641905 0.5498     0.54671429]\n",
      "Naive Bayes Mean Score:  0.5476253968253968\n"
     ]
    }
   ],
   "source": [
    "# ======== NAIVE BAYES ======== \n",
    "nav_clf = MultinomialNB(alpha=0.3)\n",
    "nav_scores = cross_val_score(nav_clf, X_train, y_train, cv=6)\n",
    "print('Naive Bayes Scores: ',nav_scores)\n",
    "nav_mean = nav_scores.mean()\n",
    "print('Naive Bayes Mean Score: ',nav_mean)"
   ]
  },
  {
   "cell_type": "code",
   "execution_count": null,
   "metadata": {},
   "outputs": [],
   "source": []
  }
 ],
 "metadata": {
  "kernelspec": {
   "display_name": "Python 3",
   "language": "python",
   "name": "python3"
  },
  "language_info": {
   "codemirror_mode": {
    "name": "ipython",
    "version": 3
   },
   "file_extension": ".py",
   "mimetype": "text/x-python",
   "name": "python",
   "nbconvert_exporter": "python",
   "pygments_lexer": "ipython3",
   "version": "3.8.5"
  }
 },
 "nbformat": 4,
 "nbformat_minor": 4
}
