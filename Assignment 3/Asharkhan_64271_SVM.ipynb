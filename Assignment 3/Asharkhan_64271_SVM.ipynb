{
  "nbformat": 4,
  "nbformat_minor": 0,
  "metadata": {
    "colab": {
      "name": "Asharkhan_64271_SVM.ipynb",
      "provenance": []
    },
    "kernelspec": {
      "name": "python3",
      "display_name": "Python 3"
    },
    "language_info": {
      "name": "python"
    }
  },
  "cells": [
    {
      "cell_type": "code",
      "execution_count": 2,
      "metadata": {
        "colab": {
          "base_uri": "https://localhost:8080/"
        },
        "id": "5Ri0CJWXRoCM",
        "outputId": "40e1b1a9-6c57-4af8-842f-fbda74a7087f"
      },
      "outputs": [
        {
          "output_type": "stream",
          "name": "stdout",
          "text": [
            "Drive already mounted at /content/drive; to attempt to forcibly remount, call drive.mount(\"/content/drive\", force_remount=True).\n",
            "Drive already mounted at /content/drive; to attempt to forcibly remount, call drive.mount(\"/content/drive\", force_remount=True).\n"
          ]
        }
      ],
      "source": [
        "from google.colab import drive\n",
        "drive.mount('/content/drive')"
      ]
    },
    {
      "cell_type": "markdown",
      "source": [
        ""
      ],
      "metadata": {
        "id": "u_LexDt8SL8p"
      }
    },
    {
      "cell_type": "code",
      "source": [
        "import pandas as pd \n",
        "import pickle \n",
        "import numpy as np\n",
        "from sklearn import preprocessing \n",
        "from sklearn.metrics import accuracy_score \n",
        "from sklearn.model_selection import train_test_split \n",
        "from sklearn.neighbors import KNeighborsClassifier \n",
        "from sklearn import metrics\n",
        "import matplotlib.pyplot as plt\n",
        "import seaborn as sns\n"
      ],
      "metadata": {
        "id": "Ps4GTc6-SMKw"
      },
      "execution_count": 3,
      "outputs": []
    },
    {
      "cell_type": "code",
      "source": [
        "trainDF = pd.read_csv(\"/content/drive/MyDrive/AI_Project/train.csv\")\n",
        "trainDF.isna().sum()\n",
        "trainDF.dtypes"
      ],
      "metadata": {
        "colab": {
          "base_uri": "https://localhost:8080/"
        },
        "id": "4WZ3tuKzSsnn",
        "outputId": "299071fb-d970-4682-9251-dd36668ce375"
      },
      "execution_count": 4,
      "outputs": [
        {
          "output_type": "execute_result",
          "data": {
            "text/plain": [
              "id          int64\n",
              "f_00      float64\n",
              "f_01      float64\n",
              "f_02      float64\n",
              "f_03      float64\n",
              "f_04      float64\n",
              "f_05      float64\n",
              "f_06      float64\n",
              "f_07        int64\n",
              "f_08        int64\n",
              "f_09        int64\n",
              "f_10        int64\n",
              "f_11        int64\n",
              "f_12        int64\n",
              "f_13        int64\n",
              "f_14        int64\n",
              "f_15        int64\n",
              "f_16        int64\n",
              "f_17        int64\n",
              "f_18        int64\n",
              "f_19      float64\n",
              "f_20      float64\n",
              "f_21      float64\n",
              "f_22      float64\n",
              "f_23      float64\n",
              "f_24      float64\n",
              "f_25      float64\n",
              "f_26      float64\n",
              "f_27       object\n",
              "f_28      float64\n",
              "f_29        int64\n",
              "f_30        int64\n",
              "target      int64\n",
              "dtype: object"
            ]
          },
          "metadata": {},
          "execution_count": 4
        }
      ]
    },
    {
      "cell_type": "code",
      "source": [
        "trainDF.drop([\"id\",\"f_27\"],axis=1,inplace=True)\n",
        "X = trainDF.drop([\"target\"],axis=1)\n",
        "nX = trainDF[['f_04', 'f_05', 'f_06','f_15', 'f_19', 'f_22', 'f_23', 'f_24', 'f_25', 'f_26']]\n",
        "y = trainDF[\"target\"]\n",
        "X_train, X_test, y_train, y_test= train_test_split(nX , y, test_size= 0.2,random_state=32)"
      ],
      "metadata": {
        "id": "FfloHvHZWCRO"
      },
      "execution_count": 5,
      "outputs": []
    },
    {
      "cell_type": "code",
      "source": [
        "Knn = KNeighborsClassifier(n_neighbors=7)\n",
        "result_KNN = Knn.fit(X_train,y_train)\n",
        "prediction_test = Knn.predict(X_test)\n",
        "Accuracy_KNN = metrics.accuracy_score(y_test, prediction_test)\n",
        "print(\"KNN-Model Accuracy : \", Accuracy_KNN)"
      ],
      "metadata": {
        "colab": {
          "base_uri": "https://localhost:8080/"
        },
        "id": "2MkrVeZnSMMt",
        "outputId": "0ef83cf8-002c-4281-f406-56f50bc8193d"
      },
      "execution_count": 27,
      "outputs": [
        {
          "output_type": "stream",
          "name": "stdout",
          "text": [
            "KNN-Model Accuracy :  0.6394944444444445\n"
          ]
        }
      ]
    },
    {
      "cell_type": "code",
      "source": [
        "from sklearn.svm import LinearSVC\n",
        "svc = LinearSVC()\n",
        "svc_predict_result = svc.fit(X_train,y_train)\n",
        "svc_predict = svc.predict(X_test)\n",
        "Accuracy_SVM = metrics.accuracy_score(y_test, svc_predict)\n",
        "print(\"SVM-Model Accuracy : \", Accuracy_SVM)"
      ],
      "metadata": {
        "colab": {
          "base_uri": "https://localhost:8080/"
        },
        "id": "sjVE7FR8SMZj",
        "outputId": "bdb457f4-1539-4393-c62b-6e2c9dc002c9"
      },
      "execution_count": 31,
      "outputs": [
        {
          "output_type": "stream",
          "name": "stdout",
          "text": [
            "SVM-Model Accuracy :  0.5704666666666667\n"
          ]
        },
        {
          "output_type": "stream",
          "name": "stderr",
          "text": [
            "/usr/local/lib/python3.7/dist-packages/sklearn/svm/_base.py:1208: ConvergenceWarning: Liblinear failed to converge, increase the number of iterations.\n",
            "  ConvergenceWarning,\n"
          ]
        }
      ]
    },
    {
      "cell_type": "code",
      "source": [
        "testDF = pd.read_csv(\"/content/drive/MyDrive/AI_Project/test.csv\")\n",
        "testDF.drop([\"id\",\"f_27\"],axis=1,inplace=True)\n",
        "ntest = testDF[['f_04', 'f_05', 'f_06','f_15', 'f_19', 'f_22', 'f_23', 'f_24', 'f_25', 'f_26']]"
      ],
      "metadata": {
        "id": "GVnpQaWn3-ke"
      },
      "execution_count": 15,
      "outputs": []
    },
    {
      "cell_type": "code",
      "source": [
        "testDF = pd.read_csv('/content/drive/MyDrive/AI_Project/test.csv');\n",
        "resultDF = testDF[['id']];\n",
        "svc_predict_test = svc.predict(ntest)\n",
        "resultDF.insert(1,\"target\",0);\n",
        "resultDF['target'] = svc_predict_test\n",
        "print(resultDF)"
      ],
      "metadata": {
        "colab": {
          "base_uri": "https://localhost:8080/"
        },
        "id": "iD-EmELgSMcr",
        "outputId": "689325c4-1214-4b0d-b315-ce88a65225c4"
      },
      "execution_count": 33,
      "outputs": [
        {
          "output_type": "stream",
          "name": "stdout",
          "text": [
            "             id  target\n",
            "0        900000       0\n",
            "1        900001       1\n",
            "2        900002       0\n",
            "3        900003       0\n",
            "4        900004       0\n",
            "...         ...     ...\n",
            "699995  1599995       1\n",
            "699996  1599996       1\n",
            "699997  1599997       0\n",
            "699998  1599998       0\n",
            "699999  1599999       0\n",
            "\n",
            "[700000 rows x 2 columns]\n"
          ]
        },
        {
          "output_type": "stream",
          "name": "stderr",
          "text": [
            "/usr/local/lib/python3.7/dist-packages/ipykernel_launcher.py:5: SettingWithCopyWarning: \n",
            "A value is trying to be set on a copy of a slice from a DataFrame.\n",
            "Try using .loc[row_indexer,col_indexer] = value instead\n",
            "\n",
            "See the caveats in the documentation: https://pandas.pydata.org/pandas-docs/stable/user_guide/indexing.html#returning-a-view-versus-a-copy\n",
            "  \"\"\"\n"
          ]
        }
      ]
    },
    {
      "cell_type": "code",
      "source": [
        "resultDF.to_csv('AsharKhan.csv',index=False);"
      ],
      "metadata": {
        "id": "7SWDw6Q5SMeC"
      },
      "execution_count": 34,
      "outputs": []
    },
    {
      "cell_type": "code",
      "source": [
        ""
      ],
      "metadata": {
        "id": "z-xCsOD8SMfS"
      },
      "execution_count": null,
      "outputs": []
    }
  ]
}