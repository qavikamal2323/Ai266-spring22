{
 "cells": [
  {
   "cell_type": "code",
   "execution_count": 7,
   "metadata": {},
   "outputs": [],
   "source": [
    "import pandas as pd\n",
    "from sklearn.metrics import accuracy_score\n",
    "from sklearn.model_selection import train_test_split\n",
    "from sklearn import metrics\n",
    "from sklearn.model_selection import cross_val_score\n",
    "from sklearn.linear_model import Perceptron"
   ]
  },
  {
   "cell_type": "code",
   "execution_count": 9,
   "metadata": {},
   "outputs": [],
   "source": [
    "train = pd.read_csv(\"C:/Users/Asad Aslam/Desktop/Dataset/train.csv\")\n",
    "test = pd.read_csv(\"C:/Users/Asad Aslam/Desktop/Dataset/test.csv\")"
   ]
  },
  {
   "cell_type": "code",
   "execution_count": 10,
   "metadata": {},
   "outputs": [
    {
     "name": "stdout",
     "output_type": "stream",
     "text": [
      "TRAIN\n",
      "   id      f_00      f_01      f_02      f_03      f_04      f_05      f_06  \\\n",
      "0   0 -1.373246  0.238887 -0.243376  0.567405 -0.647715  0.839326  0.113133   \n",
      "1   1  1.697021 -1.710322 -2.230332 -0.545661  1.113173 -1.552175  0.447825   \n",
      "2   2  1.681726  0.616746 -1.027689  0.810492 -0.609086  0.113965 -0.708660   \n",
      "3   3 -0.118172 -0.587835 -0.804638  2.086822  0.371005 -0.128831 -0.282575   \n",
      "4   4  1.148481 -0.176567 -0.664871 -1.101343  0.467875  0.500117  0.407515   \n",
      "\n",
      "   f_07  f_08  ...      f_22      f_23      f_24      f_25      f_26  \\\n",
      "0     1     5  ... -2.540739  0.766952 -2.730628 -0.208177  1.363402   \n",
      "1     1     3  ...  2.278315 -0.633658 -1.217077 -3.782194 -0.058316   \n",
      "2     1     0  ... -1.385775 -0.520558 -0.009121  2.788536 -3.703488   \n",
      "3     3     2  ...  0.572594 -1.653213  1.686035 -2.533098 -0.608601   \n",
      "4     3     3  ... -3.912929 -1.430366  2.127649 -3.306784  4.371371   \n",
      "\n",
      "         f_27        f_28  f_29  f_30  target  \n",
      "0  ABABDADBAB   67.609153     0     0       0  \n",
      "1  ACACCADCEB  377.096415     0     0       1  \n",
      "2  AAAEABCKAD -195.599702     0     2       1  \n",
      "3  BDBBAACBCB  210.826205     0     0       1  \n",
      "4  BDBCBBCHFE -217.211798     0     1       1  \n",
      "\n",
      "[5 rows x 33 columns]\n",
      "TEST\n",
      "       id      f_00      f_01      f_02      f_03      f_04      f_05  \\\n",
      "0  900000  0.442517  0.174380 -0.999816  0.762741  0.186778 -1.074775   \n",
      "1  900001 -0.605598 -0.305715  0.627667 -0.578898 -1.750931  1.355550   \n",
      "2  900002  0.303990  2.445110  0.246515  0.818248  0.359731 -1.331845   \n",
      "3  900003  0.154053  0.260126 -1.367092 -0.093175 -1.111034 -0.948481   \n",
      "4  900004 -1.651904 -0.424266 -0.667356 -0.322124 -0.089462  0.181705   \n",
      "\n",
      "       f_06  f_07  f_08  ...      f_21      f_22      f_23      f_24  \\\n",
      "0  0.501888     6     6  ... -1.006400 -1.193879 -2.435736 -2.427430   \n",
      "1 -0.190911     1     3  ...  2.382405  0.149442  1.883322 -2.848714   \n",
      "2  1.358622     3     3  ... -7.026098  1.312277 -5.157192  1.714005   \n",
      "3  1.119220     0     0  ... -0.594532 -3.939475  1.754570 -2.364007   \n",
      "4  1.784983     2     2  ...  0.084906 -0.985736 -0.130467 -3.557893   \n",
      "\n",
      "       f_25      f_26        f_27        f_28  f_29  f_30  \n",
      "0 -1.966887  5.734205  BAAABADLAC   99.478419     0     0  \n",
      "1 -0.725155  3.194219  AFABBAEGCB  -65.993825     1     0  \n",
      "2  0.585032  0.066898  BBACABBKEE  -87.405622     0     1  \n",
      "3 -1.003320  3.893099  AEBEAACQCC -281.293460     0     0  \n",
      "4  1.210687  1.861884  AEBBBBDABF   25.629415     0     2  \n",
      "\n",
      "[5 rows x 32 columns]\n"
     ]
    }
   ],
   "source": [
    "print(\"TRAIN\")\n",
    "print(train.head())\n",
    "print(\"TEST\")\n",
    "print(test.head())"
   ]
  },
  {
   "cell_type": "code",
   "execution_count": 11,
   "metadata": {},
   "outputs": [],
   "source": [
    "del train['id']\n",
    "del train['f_27']\n",
    "del test['f_27']"
   ]
  },
  {
   "cell_type": "code",
   "execution_count": 12,
   "metadata": {},
   "outputs": [],
   "source": [
    "X = train.drop(columns=['target'])\n",
    "y = train['target']\n",
    "X_train, X_test, y_train, y_test = train_test_split(X, y, test_size=0.2, random_state=42)"
   ]
  },
  {
   "cell_type": "code",
   "execution_count": 13,
   "metadata": {},
   "outputs": [
    {
     "name": "stdout",
     "output_type": "stream",
     "text": [
      "Accuracy\n"
     ]
    },
    {
     "data": {
      "text/plain": [
       "52.77"
      ]
     },
     "execution_count": 13,
     "metadata": {},
     "output_type": "execute_result"
    }
   ],
   "source": [
    "perceptron = Perceptron()\n",
    "perceptron.fit(X_train, y_train)\n",
    "Y_pred = perceptron.predict(X_test)\n",
    "acc_perceptron = round(perceptron.score(X_train, y_train) * 100, 2)\n",
    "print(\"Accuracy\")\n",
    "acc_perceptron"
   ]
  },
  {
   "cell_type": "code",
   "execution_count": 14,
   "metadata": {},
   "outputs": [
    {
     "name": "stdout",
     "output_type": "stream",
     "text": [
      "Perception Accuracy:  0.5292819444444444\n"
     ]
    }
   ],
   "source": [
    "per_clf = Perceptron()\n",
    "per_scores = cross_val_score(per_clf, X_train, y_train, cv=6)\n",
    "per_mean = per_scores.mean()\n",
    "print('Perception Accuracy: ',per_mean)"
   ]
  },
  {
   "cell_type": "code",
   "execution_count": 15,
   "metadata": {},
   "outputs": [
    {
     "data": {
      "text/html": [
       "<div>\n",
       "<style scoped>\n",
       "    .dataframe tbody tr th:only-of-type {\n",
       "        vertical-align: middle;\n",
       "    }\n",
       "\n",
       "    .dataframe tbody tr th {\n",
       "        vertical-align: top;\n",
       "    }\n",
       "\n",
       "    .dataframe thead th {\n",
       "        text-align: right;\n",
       "    }\n",
       "</style>\n",
       "<table border=\"1\" class=\"dataframe\">\n",
       "  <thead>\n",
       "    <tr style=\"text-align: right;\">\n",
       "      <th></th>\n",
       "      <th>id</th>\n",
       "    </tr>\n",
       "  </thead>\n",
       "  <tbody>\n",
       "    <tr>\n",
       "      <th>0</th>\n",
       "      <td>900000</td>\n",
       "    </tr>\n",
       "    <tr>\n",
       "      <th>1</th>\n",
       "      <td>900001</td>\n",
       "    </tr>\n",
       "    <tr>\n",
       "      <th>2</th>\n",
       "      <td>900002</td>\n",
       "    </tr>\n",
       "    <tr>\n",
       "      <th>3</th>\n",
       "      <td>900003</td>\n",
       "    </tr>\n",
       "    <tr>\n",
       "      <th>4</th>\n",
       "      <td>900004</td>\n",
       "    </tr>\n",
       "    <tr>\n",
       "      <th>...</th>\n",
       "      <td>...</td>\n",
       "    </tr>\n",
       "    <tr>\n",
       "      <th>699995</th>\n",
       "      <td>1599995</td>\n",
       "    </tr>\n",
       "    <tr>\n",
       "      <th>699996</th>\n",
       "      <td>1599996</td>\n",
       "    </tr>\n",
       "    <tr>\n",
       "      <th>699997</th>\n",
       "      <td>1599997</td>\n",
       "    </tr>\n",
       "    <tr>\n",
       "      <th>699998</th>\n",
       "      <td>1599998</td>\n",
       "    </tr>\n",
       "    <tr>\n",
       "      <th>699999</th>\n",
       "      <td>1599999</td>\n",
       "    </tr>\n",
       "  </tbody>\n",
       "</table>\n",
       "<p>700000 rows × 1 columns</p>\n",
       "</div>"
      ],
      "text/plain": [
       "             id\n",
       "0        900000\n",
       "1        900001\n",
       "2        900002\n",
       "3        900003\n",
       "4        900004\n",
       "...         ...\n",
       "699995  1599995\n",
       "699996  1599996\n",
       "699997  1599997\n",
       "699998  1599998\n",
       "699999  1599999\n",
       "\n",
       "[700000 rows x 1 columns]"
      ]
     },
     "execution_count": 15,
     "metadata": {},
     "output_type": "execute_result"
    }
   ],
   "source": [
    "RiyanCSVTest = test[['id']]\n",
    "RiyanCSVTest"
   ]
  },
  {
   "cell_type": "code",
   "execution_count": 19,
   "metadata": {},
   "outputs": [
    {
     "data": {
      "text/html": [
       "<div>\n",
       "<style scoped>\n",
       "    .dataframe tbody tr th:only-of-type {\n",
       "        vertical-align: middle;\n",
       "    }\n",
       "\n",
       "    .dataframe tbody tr th {\n",
       "        vertical-align: top;\n",
       "    }\n",
       "\n",
       "    .dataframe thead th {\n",
       "        text-align: right;\n",
       "    }\n",
       "</style>\n",
       "<table border=\"1\" class=\"dataframe\">\n",
       "  <thead>\n",
       "    <tr style=\"text-align: right;\">\n",
       "      <th></th>\n",
       "      <th>f_00</th>\n",
       "      <th>f_01</th>\n",
       "      <th>f_02</th>\n",
       "      <th>f_03</th>\n",
       "      <th>f_04</th>\n",
       "      <th>f_05</th>\n",
       "      <th>f_06</th>\n",
       "      <th>f_07</th>\n",
       "      <th>f_08</th>\n",
       "      <th>f_09</th>\n",
       "      <th>...</th>\n",
       "      <th>f_20</th>\n",
       "      <th>f_21</th>\n",
       "      <th>f_22</th>\n",
       "      <th>f_23</th>\n",
       "      <th>f_24</th>\n",
       "      <th>f_25</th>\n",
       "      <th>f_26</th>\n",
       "      <th>f_28</th>\n",
       "      <th>f_29</th>\n",
       "      <th>f_30</th>\n",
       "    </tr>\n",
       "  </thead>\n",
       "  <tbody>\n",
       "    <tr>\n",
       "      <th>0</th>\n",
       "      <td>0.442517</td>\n",
       "      <td>0.174380</td>\n",
       "      <td>-0.999816</td>\n",
       "      <td>0.762741</td>\n",
       "      <td>0.186778</td>\n",
       "      <td>-1.074775</td>\n",
       "      <td>0.501888</td>\n",
       "      <td>6</td>\n",
       "      <td>6</td>\n",
       "      <td>0</td>\n",
       "      <td>...</td>\n",
       "      <td>2.749347</td>\n",
       "      <td>-1.006400</td>\n",
       "      <td>-1.193879</td>\n",
       "      <td>-2.435736</td>\n",
       "      <td>-2.427430</td>\n",
       "      <td>-1.966887</td>\n",
       "      <td>5.734205</td>\n",
       "      <td>99.478419</td>\n",
       "      <td>0</td>\n",
       "      <td>0</td>\n",
       "    </tr>\n",
       "    <tr>\n",
       "      <th>1</th>\n",
       "      <td>-0.605598</td>\n",
       "      <td>-0.305715</td>\n",
       "      <td>0.627667</td>\n",
       "      <td>-0.578898</td>\n",
       "      <td>-1.750931</td>\n",
       "      <td>1.355550</td>\n",
       "      <td>-0.190911</td>\n",
       "      <td>1</td>\n",
       "      <td>3</td>\n",
       "      <td>4</td>\n",
       "      <td>...</td>\n",
       "      <td>1.080762</td>\n",
       "      <td>2.382405</td>\n",
       "      <td>0.149442</td>\n",
       "      <td>1.883322</td>\n",
       "      <td>-2.848714</td>\n",
       "      <td>-0.725155</td>\n",
       "      <td>3.194219</td>\n",
       "      <td>-65.993825</td>\n",
       "      <td>1</td>\n",
       "      <td>0</td>\n",
       "    </tr>\n",
       "  </tbody>\n",
       "</table>\n",
       "<p>2 rows × 30 columns</p>\n",
       "</div>"
      ],
      "text/plain": [
       "       f_00      f_01      f_02      f_03      f_04      f_05      f_06  f_07  \\\n",
       "0  0.442517  0.174380 -0.999816  0.762741  0.186778 -1.074775  0.501888     6   \n",
       "1 -0.605598 -0.305715  0.627667 -0.578898 -1.750931  1.355550 -0.190911     1   \n",
       "\n",
       "   f_08  f_09  ...      f_20      f_21      f_22      f_23      f_24  \\\n",
       "0     6     0  ...  2.749347 -1.006400 -1.193879 -2.435736 -2.427430   \n",
       "1     3     4  ...  1.080762  2.382405  0.149442  1.883322 -2.848714   \n",
       "\n",
       "       f_25      f_26       f_28  f_29  f_30  \n",
       "0 -1.966887  5.734205  99.478419     0     0  \n",
       "1 -0.725155  3.194219 -65.993825     1     0  \n",
       "\n",
       "[2 rows x 30 columns]"
      ]
     },
     "execution_count": 19,
     "metadata": {},
     "output_type": "execute_result"
    }
   ],
   "source": [
    "predT = test.drop(columns=['id'])\n",
    "predT.head(2)"
   ]
  },
  {
   "cell_type": "code",
   "execution_count": 24,
   "metadata": {},
   "outputs": [
    {
     "name": "stderr",
     "output_type": "stream",
     "text": [
      "<ipython-input-24-cdbd064b589a>:2: SettingWithCopyWarning: \n",
      "A value is trying to be set on a copy of a slice from a DataFrame.\n",
      "Try using .loc[row_indexer,col_indexer] = value instead\n",
      "\n",
      "See the caveats in the documentation: https://pandas.pydata.org/pandas-docs/stable/user_guide/indexing.html#returning-a-view-versus-a-copy\n",
      "  RiyanCSVTest['target'] = predictionOnTest\n"
     ]
    }
   ],
   "source": [
    "predictionOnTest = perceptron.predict(predT)\n",
    "RiyanCSVTest['target'] = predictionOnTest\n",
    "RiyanCSVTest.head()\n",
    "RiyanCSVTest.to_csv('RiyanCSVTest.csv', index=False)"
   ]
  },
  {
   "cell_type": "code",
   "execution_count": null,
   "metadata": {},
   "outputs": [],
   "source": []
  }
 ],
 "metadata": {
  "kernelspec": {
   "display_name": "Python 3",
   "language": "python",
   "name": "python3"
  },
  "language_info": {
   "codemirror_mode": {
    "name": "ipython",
    "version": 3
   },
   "file_extension": ".py",
   "mimetype": "text/x-python",
   "name": "python",
   "nbconvert_exporter": "python",
   "pygments_lexer": "ipython3",
   "version": "3.8.5"
  }
 },
 "nbformat": 4,
 "nbformat_minor": 4
}
