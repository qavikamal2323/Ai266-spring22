{
 "cells": [
  {
   "cell_type": "code",
   "execution_count": 1,
   "metadata": {},
   "outputs": [],
   "source": [
    "import pandas as pd\n",
    "from sklearn.metrics import accuracy_score # For Checking Accuracy\n",
    "from sklearn.model_selection import train_test_split # Splitting Data For Train Test\n",
    "from sklearn.neighbors import KNeighborsClassifier # ML Algo KNN\n",
    "from sklearn import metrics\n",
    "from sklearn.naive_bayes import MultinomialNB # For Multinomial Naive Bayes Model\n",
    "from sklearn.model_selection import cross_val_score # For Cross Validation\n",
    "from sklearn.naive_bayes import BernoulliNB \n",
    "import warnings\n",
    "warnings.filterwarnings('ignore')"
   ]
  },
  {
   "cell_type": "code",
   "execution_count": 2,
   "metadata": {},
   "outputs": [
    {
     "name": "stdout",
     "output_type": "stream",
     "text": [
      "(900000, 33)\n",
      "(700000, 32)\n"
     ]
    }
   ],
   "source": [
    "train = pd.read_csv(\"C:/Users/Asad Aslam/Desktop/Dataset/train.csv\")\n",
    "test = pd.read_csv('C:/Users/Asad Aslam/Desktop/Dataset/test.csv')\n",
    "train.head()\n",
    "test.head()\n",
    "print(train.shape)\n",
    "print(test.shape)"
   ]
  },
  {
   "cell_type": "code",
   "execution_count": 3,
   "metadata": {},
   "outputs": [],
   "source": [
    "del train['id']\n",
    "del train['f_27']\n",
    "\n",
    "# del test['id']\n",
    "del test['f_27']"
   ]
  },
  {
   "cell_type": "code",
   "execution_count": 4,
   "metadata": {},
   "outputs": [],
   "source": [
    "# Separating Target & Other Columns\n",
    "X = train.drop(columns=['target'])\n",
    "y = train['target']"
   ]
  },
  {
   "cell_type": "code",
   "execution_count": 5,
   "metadata": {},
   "outputs": [],
   "source": [
    "X_train, X_test, y_train, y_test = train_test_split(X, y, test_size=0.3, random_state=42)"
   ]
  },
  {
   "cell_type": "code",
   "execution_count": 6,
   "metadata": {},
   "outputs": [
    {
     "name": "stdout",
     "output_type": "stream",
     "text": [
      "(630000, 30)\n",
      "(270000, 30)\n",
      "(630000,)\n",
      "(270000,)\n"
     ]
    }
   ],
   "source": [
    "print(X_train.shape)\n",
    "print(X_test.shape)\n",
    "print(y_train.shape)\n",
    "print(y_test.shape)"
   ]
  },
  {
   "cell_type": "code",
   "execution_count": 7,
   "metadata": {},
   "outputs": [
    {
     "name": "stdout",
     "output_type": "stream",
     "text": [
      "Naive Bayes Accuracy:  0.5810888888888889\n"
     ]
    }
   ],
   "source": [
    "bnbTesting = BernoulliNB() #Classifier\n",
    "bnbTesting.fit(X_train, y_train) #Training by fitting into model\n",
    "bnbTestingPred = bnbTesting.predict(X_test) #Prediction\n",
    "bnbAcc = metrics.accuracy_score(y_test, bnbTestingPred) #Checking Accuracy Score\n",
    "print (\"Naive Bayes Accuracy: \", bnbAcc)"
   ]
  },
  {
   "cell_type": "code",
   "execution_count": 8,
   "metadata": {},
   "outputs": [
    {
     "name": "stdout",
     "output_type": "stream",
     "text": [
      "Naive Bayes Scores:  [0.58599048 0.58252381 0.58387619 0.58149524 0.5831619  0.58197143]\n",
      "Naive Bayes Mean Score:  0.5831698412698412\n"
     ]
    }
   ],
   "source": [
    "# ======== NAIVE BAYES ======== \n",
    "nav_clf = BernoulliNB()\n",
    "nav_scores = cross_val_score(nav_clf, X_train, y_train, cv=6)\n",
    "print('Naive Bayes Scores: ',nav_scores)\n",
    "nav_mean = nav_scores.mean()\n",
    "print('Naive Bayes Mean Score: ',nav_mean)"
   ]
  },
  {
   "cell_type": "code",
   "execution_count": 9,
   "metadata": {},
   "outputs": [
    {
     "name": "stdout",
     "output_type": "stream",
     "text": [
      "Naive Bayes Accuracy:  0.6253814814814814\n"
     ]
    }
   ],
   "source": [
    "# ======== NAIVE BAYES (LAPLACE SMOOTHING) ======== \n",
    "\n",
    "from sklearn.naive_bayes import GaussianNB\n",
    "classifier = GaussianNB()\n",
    "classifier.fit(X_train, y_train)\n",
    "y_pred  =  classifier.predict(X_test)\n",
    "\n",
    "gnbAcc = metrics.accuracy_score(y_test, y_pred) # Checking Accuracy Score\n",
    "print (\"Naive Bayes Accuracy: \", gnbAcc)"
   ]
  },
  {
   "cell_type": "code",
   "execution_count": 10,
   "metadata": {},
   "outputs": [
    {
     "name": "stdout",
     "output_type": "stream",
     "text": [
      "Naive Bayes Scores:  [0.62624762 0.62592381 0.62628571 0.62492381 0.62640952 0.62606667]\n",
      "Naive Bayes Mean Score:  0.6259761904761906\n"
     ]
    }
   ],
   "source": [
    "# ======== NAIVE BAYES ======== \n",
    "nav_clf = GaussianNB()\n",
    "nav_scores = cross_val_score(nav_clf, X_train, y_train, cv=6)\n",
    "print('Naive Bayes Scores: ',nav_scores)\n",
    "nav_mean = nav_scores.mean()\n",
    "print('Naive Bayes Mean Score: ',nav_mean)"
   ]
  },
  {
   "cell_type": "code",
   "execution_count": 11,
   "metadata": {},
   "outputs": [
    {
     "name": "stdout",
     "output_type": "stream",
     "text": [
      "(900000, 31)\n",
      "(700000, 31)\n"
     ]
    }
   ],
   "source": [
    "print(train.shape)\n",
    "print(test.shape)"
   ]
  },
  {
   "cell_type": "code",
   "execution_count": 12,
   "metadata": {},
   "outputs": [
    {
     "data": {
      "text/html": [
       "<div>\n",
       "<style scoped>\n",
       "    .dataframe tbody tr th:only-of-type {\n",
       "        vertical-align: middle;\n",
       "    }\n",
       "\n",
       "    .dataframe tbody tr th {\n",
       "        vertical-align: top;\n",
       "    }\n",
       "\n",
       "    .dataframe thead th {\n",
       "        text-align: right;\n",
       "    }\n",
       "</style>\n",
       "<table border=\"1\" class=\"dataframe\">\n",
       "  <thead>\n",
       "    <tr style=\"text-align: right;\">\n",
       "      <th></th>\n",
       "      <th>id</th>\n",
       "    </tr>\n",
       "  </thead>\n",
       "  <tbody>\n",
       "    <tr>\n",
       "      <th>0</th>\n",
       "      <td>900000</td>\n",
       "    </tr>\n",
       "    <tr>\n",
       "      <th>1</th>\n",
       "      <td>900001</td>\n",
       "    </tr>\n",
       "    <tr>\n",
       "      <th>2</th>\n",
       "      <td>900002</td>\n",
       "    </tr>\n",
       "    <tr>\n",
       "      <th>3</th>\n",
       "      <td>900003</td>\n",
       "    </tr>\n",
       "    <tr>\n",
       "      <th>4</th>\n",
       "      <td>900004</td>\n",
       "    </tr>\n",
       "    <tr>\n",
       "      <th>...</th>\n",
       "      <td>...</td>\n",
       "    </tr>\n",
       "    <tr>\n",
       "      <th>699995</th>\n",
       "      <td>1599995</td>\n",
       "    </tr>\n",
       "    <tr>\n",
       "      <th>699996</th>\n",
       "      <td>1599996</td>\n",
       "    </tr>\n",
       "    <tr>\n",
       "      <th>699997</th>\n",
       "      <td>1599997</td>\n",
       "    </tr>\n",
       "    <tr>\n",
       "      <th>699998</th>\n",
       "      <td>1599998</td>\n",
       "    </tr>\n",
       "    <tr>\n",
       "      <th>699999</th>\n",
       "      <td>1599999</td>\n",
       "    </tr>\n",
       "  </tbody>\n",
       "</table>\n",
       "<p>700000 rows × 1 columns</p>\n",
       "</div>"
      ],
      "text/plain": [
       "             id\n",
       "0        900000\n",
       "1        900001\n",
       "2        900002\n",
       "3        900003\n",
       "4        900004\n",
       "...         ...\n",
       "699995  1599995\n",
       "699996  1599996\n",
       "699997  1599997\n",
       "699998  1599998\n",
       "699999  1599999\n",
       "\n",
       "[700000 rows x 1 columns]"
      ]
     },
     "execution_count": 12,
     "metadata": {},
     "output_type": "execute_result"
    }
   ],
   "source": [
    "AsadCSVtoTest = test[['id']]\n",
    "AsadCSVtoTest"
   ]
  },
  {
   "cell_type": "code",
   "execution_count": 13,
   "metadata": {},
   "outputs": [
    {
     "data": {
      "text/html": [
       "<div>\n",
       "<style scoped>\n",
       "    .dataframe tbody tr th:only-of-type {\n",
       "        vertical-align: middle;\n",
       "    }\n",
       "\n",
       "    .dataframe tbody tr th {\n",
       "        vertical-align: top;\n",
       "    }\n",
       "\n",
       "    .dataframe thead th {\n",
       "        text-align: right;\n",
       "    }\n",
       "</style>\n",
       "<table border=\"1\" class=\"dataframe\">\n",
       "  <thead>\n",
       "    <tr style=\"text-align: right;\">\n",
       "      <th></th>\n",
       "      <th>f_00</th>\n",
       "      <th>f_01</th>\n",
       "      <th>f_02</th>\n",
       "      <th>f_03</th>\n",
       "      <th>f_04</th>\n",
       "      <th>f_05</th>\n",
       "      <th>f_06</th>\n",
       "      <th>f_07</th>\n",
       "      <th>f_08</th>\n",
       "      <th>f_09</th>\n",
       "      <th>...</th>\n",
       "      <th>f_20</th>\n",
       "      <th>f_21</th>\n",
       "      <th>f_22</th>\n",
       "      <th>f_23</th>\n",
       "      <th>f_24</th>\n",
       "      <th>f_25</th>\n",
       "      <th>f_26</th>\n",
       "      <th>f_28</th>\n",
       "      <th>f_29</th>\n",
       "      <th>f_30</th>\n",
       "    </tr>\n",
       "  </thead>\n",
       "  <tbody>\n",
       "    <tr>\n",
       "      <th>0</th>\n",
       "      <td>0.442517</td>\n",
       "      <td>0.174380</td>\n",
       "      <td>-0.999816</td>\n",
       "      <td>0.762741</td>\n",
       "      <td>0.186778</td>\n",
       "      <td>-1.074775</td>\n",
       "      <td>0.501888</td>\n",
       "      <td>6</td>\n",
       "      <td>6</td>\n",
       "      <td>0</td>\n",
       "      <td>...</td>\n",
       "      <td>2.749347</td>\n",
       "      <td>-1.006400</td>\n",
       "      <td>-1.193879</td>\n",
       "      <td>-2.435736</td>\n",
       "      <td>-2.427430</td>\n",
       "      <td>-1.966887</td>\n",
       "      <td>5.734205</td>\n",
       "      <td>99.478419</td>\n",
       "      <td>0</td>\n",
       "      <td>0</td>\n",
       "    </tr>\n",
       "    <tr>\n",
       "      <th>1</th>\n",
       "      <td>-0.605598</td>\n",
       "      <td>-0.305715</td>\n",
       "      <td>0.627667</td>\n",
       "      <td>-0.578898</td>\n",
       "      <td>-1.750931</td>\n",
       "      <td>1.355550</td>\n",
       "      <td>-0.190911</td>\n",
       "      <td>1</td>\n",
       "      <td>3</td>\n",
       "      <td>4</td>\n",
       "      <td>...</td>\n",
       "      <td>1.080762</td>\n",
       "      <td>2.382405</td>\n",
       "      <td>0.149442</td>\n",
       "      <td>1.883322</td>\n",
       "      <td>-2.848714</td>\n",
       "      <td>-0.725155</td>\n",
       "      <td>3.194219</td>\n",
       "      <td>-65.993825</td>\n",
       "      <td>1</td>\n",
       "      <td>0</td>\n",
       "    </tr>\n",
       "  </tbody>\n",
       "</table>\n",
       "<p>2 rows × 30 columns</p>\n",
       "</div>"
      ],
      "text/plain": [
       "       f_00      f_01      f_02      f_03      f_04      f_05      f_06  f_07  \\\n",
       "0  0.442517  0.174380 -0.999816  0.762741  0.186778 -1.074775  0.501888     6   \n",
       "1 -0.605598 -0.305715  0.627667 -0.578898 -1.750931  1.355550 -0.190911     1   \n",
       "\n",
       "   f_08  f_09  ...      f_20      f_21      f_22      f_23      f_24  \\\n",
       "0     6     0  ...  2.749347 -1.006400 -1.193879 -2.435736 -2.427430   \n",
       "1     3     4  ...  1.080762  2.382405  0.149442  1.883322 -2.848714   \n",
       "\n",
       "       f_25      f_26       f_28  f_29  f_30  \n",
       "0 -1.966887  5.734205  99.478419     0     0  \n",
       "1 -0.725155  3.194219 -65.993825     1     0  \n",
       "\n",
       "[2 rows x 30 columns]"
      ]
     },
     "execution_count": 13,
     "metadata": {},
     "output_type": "execute_result"
    }
   ],
   "source": [
    "predT = test.drop(columns=['id'])\n",
    "predT.head(2)"
   ]
  },
  {
   "cell_type": "code",
   "execution_count": 14,
   "metadata": {},
   "outputs": [
    {
     "name": "stdout",
     "output_type": "stream",
     "text": [
      "[0 1 1 ... 0 0 0]\n",
      "700000\n"
     ]
    }
   ],
   "source": [
    "predictionOnTest = classifier.predict(predT)\n",
    "print(predictionOnTest)\n",
    "print(len(predictionOnTest))"
   ]
  },
  {
   "cell_type": "code",
   "execution_count": 15,
   "metadata": {},
   "outputs": [
    {
     "data": {
      "text/html": [
       "<div>\n",
       "<style scoped>\n",
       "    .dataframe tbody tr th:only-of-type {\n",
       "        vertical-align: middle;\n",
       "    }\n",
       "\n",
       "    .dataframe tbody tr th {\n",
       "        vertical-align: top;\n",
       "    }\n",
       "\n",
       "    .dataframe thead th {\n",
       "        text-align: right;\n",
       "    }\n",
       "</style>\n",
       "<table border=\"1\" class=\"dataframe\">\n",
       "  <thead>\n",
       "    <tr style=\"text-align: right;\">\n",
       "      <th></th>\n",
       "      <th>id</th>\n",
       "      <th>target</th>\n",
       "    </tr>\n",
       "  </thead>\n",
       "  <tbody>\n",
       "    <tr>\n",
       "      <th>0</th>\n",
       "      <td>900000</td>\n",
       "      <td>0</td>\n",
       "    </tr>\n",
       "    <tr>\n",
       "      <th>1</th>\n",
       "      <td>900001</td>\n",
       "      <td>1</td>\n",
       "    </tr>\n",
       "    <tr>\n",
       "      <th>2</th>\n",
       "      <td>900002</td>\n",
       "      <td>1</td>\n",
       "    </tr>\n",
       "    <tr>\n",
       "      <th>3</th>\n",
       "      <td>900003</td>\n",
       "      <td>0</td>\n",
       "    </tr>\n",
       "    <tr>\n",
       "      <th>4</th>\n",
       "      <td>900004</td>\n",
       "      <td>0</td>\n",
       "    </tr>\n",
       "  </tbody>\n",
       "</table>\n",
       "</div>"
      ],
      "text/plain": [
       "       id  target\n",
       "0  900000       0\n",
       "1  900001       1\n",
       "2  900002       1\n",
       "3  900003       0\n",
       "4  900004       0"
      ]
     },
     "execution_count": 15,
     "metadata": {},
     "output_type": "execute_result"
    }
   ],
   "source": [
    "AsadCSVtoTest['target'] = predictionOnTest\n",
    "AsadCSVtoTest.head()"
   ]
  },
  {
   "cell_type": "code",
   "execution_count": 16,
   "metadata": {},
   "outputs": [],
   "source": [
    "AsadCSVtoTest.shape\n",
    "AsadCSVtoTest.to_csv('AsadCSVtoTest.csv', index=False)"
   ]
  },
  {
   "cell_type": "code",
   "execution_count": null,
   "metadata": {},
   "outputs": [],
   "source": []
  }
 ],
 "metadata": {
  "kernelspec": {
   "display_name": "Python 3",
   "language": "python",
   "name": "python3"
  },
  "language_info": {
   "codemirror_mode": {
    "name": "ipython",
    "version": 3
   },
   "file_extension": ".py",
   "mimetype": "text/x-python",
   "name": "python",
   "nbconvert_exporter": "python",
   "pygments_lexer": "ipython3",
   "version": "3.8.5"
  }
 },
 "nbformat": 4,
 "nbformat_minor": 4
}
